{
 "cells": [
  {
   "cell_type": "code",
   "execution_count": 1,
   "id": "7e0b017b",
   "metadata": {},
   "outputs": [],
   "source": [
    "def greet(name):\n",
    "    print(f\"Good Morning {name}\")\n",
    "    "
   ]
  },
  {
   "cell_type": "code",
   "execution_count": 2,
   "id": "d63ddda9",
   "metadata": {},
   "outputs": [
    {
     "name": "stdout",
     "output_type": "stream",
     "text": [
      "Good Morning Jack\n"
     ]
    }
   ],
   "source": [
    "greet(\"Jack\")"
   ]
  },
  {
   "cell_type": "code",
   "execution_count": 4,
   "id": "950d0c68",
   "metadata": {},
   "outputs": [
    {
     "name": "stdout",
     "output_type": "stream",
     "text": [
      "Good Morning Aniruddha\n",
      "Hello\n"
     ]
    }
   ],
   "source": [
    "greet(\"Aniruddha\")\n",
    "print(\"Hello\")"
   ]
  },
  {
   "cell_type": "code",
   "execution_count": 5,
   "id": "a3a9b3ac",
   "metadata": {},
   "outputs": [
    {
     "name": "stdout",
     "output_type": "stream",
     "text": [
      "Help on function greet in module __main__:\n",
      "\n",
      "greet(name)\n",
      "\n"
     ]
    }
   ],
   "source": [
    "help(greet)"
   ]
  },
  {
   "cell_type": "code",
   "execution_count": 6,
   "id": "48f0c56e",
   "metadata": {},
   "outputs": [
    {
     "name": "stdout",
     "output_type": "stream",
     "text": [
      "Help on built-in function len in module builtins:\n",
      "\n",
      "len(obj, /)\n",
      "    Return the number of items in a container.\n",
      "\n"
     ]
    }
   ],
   "source": [
    "help(len)"
   ]
  },
  {
   "cell_type": "code",
   "execution_count": 7,
   "id": "bbfe6576",
   "metadata": {},
   "outputs": [
    {
     "name": "stdout",
     "output_type": "stream",
     "text": [
      "Good Morning 10\n"
     ]
    }
   ],
   "source": [
    "greet(10)"
   ]
  },
  {
   "cell_type": "code",
   "execution_count": 8,
   "id": "4f2ddea0",
   "metadata": {},
   "outputs": [],
   "source": [
    "def greet(name):\n",
    "    '''\n",
    "    This function used to greet a person.\n",
    "    name: The name of the person to greet.\n",
    "    '''\n",
    "    print(f\"Good Morning {name}\")\n",
    "    "
   ]
  },
  {
   "cell_type": "code",
   "execution_count": 9,
   "id": "fcb71a18",
   "metadata": {},
   "outputs": [
    {
     "name": "stdout",
     "output_type": "stream",
     "text": [
      "Help on function greet in module __main__:\n",
      "\n",
      "greet(name)\n",
      "    This function used to greet a person.\n",
      "    name: The name of the person to greet.\n",
      "\n"
     ]
    }
   ],
   "source": [
    "help(greet)"
   ]
  },
  {
   "cell_type": "code",
   "execution_count": 10,
   "id": "2e2f88d1",
   "metadata": {},
   "outputs": [
    {
     "name": "stdout",
     "output_type": "stream",
     "text": [
      "Help on _Helper in module _sitebuiltins object:\n",
      "\n",
      "class _Helper(builtins.object)\n",
      " |  Define the builtin 'help'.\n",
      " |  \n",
      " |  This is a wrapper around pydoc.help that provides a helpful message\n",
      " |  when 'help' is typed at the Python interactive prompt.\n",
      " |  \n",
      " |  Calling help() at the Python prompt starts an interactive help session.\n",
      " |  Calling help(thing) prints help for the python object 'thing'.\n",
      " |  \n",
      " |  Methods defined here:\n",
      " |  \n",
      " |  __call__(self, *args, **kwds)\n",
      " |      Call self as a function.\n",
      " |  \n",
      " |  __repr__(self)\n",
      " |      Return repr(self).\n",
      " |  \n",
      " |  ----------------------------------------------------------------------\n",
      " |  Data descriptors defined here:\n",
      " |  \n",
      " |  __dict__\n",
      " |      dictionary for instance variables (if defined)\n",
      " |  \n",
      " |  __weakref__\n",
      " |      list of weak references to the object (if defined)\n",
      "\n"
     ]
    }
   ],
   "source": [
    "help(help)"
   ]
  },
  {
   "cell_type": "code",
   "execution_count": 11,
   "id": "dfb26a16",
   "metadata": {},
   "outputs": [],
   "source": [
    "def even_odd(num):\n",
    "    '''\n",
    "    This function takes an integer and check if it is odd or even.\n",
    "    '''\n",
    "    if num % 2 == 0:\n",
    "        print(\"Even\")\n",
    "    else:\n",
    "        print(\"Odd\")"
   ]
  },
  {
   "cell_type": "code",
   "execution_count": 12,
   "id": "6097bc1d",
   "metadata": {},
   "outputs": [
    {
     "name": "stdout",
     "output_type": "stream",
     "text": [
      "Even\n"
     ]
    }
   ],
   "source": [
    "even_odd(10)"
   ]
  },
  {
   "cell_type": "code",
   "execution_count": 13,
   "id": "24231982",
   "metadata": {},
   "outputs": [
    {
     "name": "stdout",
     "output_type": "stream",
     "text": [
      "Help on function even_odd in module __main__:\n",
      "\n",
      "even_odd(num)\n",
      "    This function takes an integer and check if it is odd or even.\n",
      "\n"
     ]
    }
   ],
   "source": [
    "help(even_odd)"
   ]
  },
  {
   "cell_type": "code",
   "execution_count": 14,
   "id": "b443609c",
   "metadata": {},
   "outputs": [
    {
     "name": "stdout",
     "output_type": "stream",
     "text": [
      "Odd\n"
     ]
    }
   ],
   "source": [
    "even_odd(11)"
   ]
  },
  {
   "cell_type": "code",
   "execution_count": 15,
   "id": "eaff31e5",
   "metadata": {},
   "outputs": [],
   "source": [
    "l1 = [1,2,3,4]"
   ]
  },
  {
   "cell_type": "code",
   "execution_count": 16,
   "id": "f531bad3",
   "metadata": {},
   "outputs": [
    {
     "name": "stdout",
     "output_type": "stream",
     "text": [
      "Help on built-in function append:\n",
      "\n",
      "append(object, /) method of builtins.list instance\n",
      "    Append object to the end of the list.\n",
      "\n"
     ]
    }
   ],
   "source": [
    "help(l1.append)"
   ]
  },
  {
   "cell_type": "code",
   "execution_count": 17,
   "id": "f80b4be4",
   "metadata": {},
   "outputs": [
    {
     "name": "stdout",
     "output_type": "stream",
     "text": [
      "Help on built-in function pop:\n",
      "\n",
      "pop(index=-1, /) method of builtins.list instance\n",
      "    Remove and return item at index (default last).\n",
      "    \n",
      "    Raises IndexError if list is empty or index is out of range.\n",
      "\n"
     ]
    }
   ],
   "source": [
    "help(l1.pop)"
   ]
  },
  {
   "cell_type": "code",
   "execution_count": 18,
   "id": "3ecd5b7a",
   "metadata": {},
   "outputs": [],
   "source": [
    "value = l1.pop(2)"
   ]
  },
  {
   "cell_type": "code",
   "execution_count": 19,
   "id": "6bba17a3",
   "metadata": {},
   "outputs": [
    {
     "data": {
      "text/plain": [
       "3"
      ]
     },
     "execution_count": 19,
     "metadata": {},
     "output_type": "execute_result"
    }
   ],
   "source": [
    "value"
   ]
  },
  {
   "cell_type": "code",
   "execution_count": 20,
   "id": "fea0b3e3",
   "metadata": {},
   "outputs": [],
   "source": [
    "new_value = l1.append(2)"
   ]
  },
  {
   "cell_type": "code",
   "execution_count": 21,
   "id": "12b32add",
   "metadata": {},
   "outputs": [],
   "source": [
    "new_value"
   ]
  },
  {
   "cell_type": "code",
   "execution_count": 22,
   "id": "c31d116c",
   "metadata": {},
   "outputs": [
    {
     "data": {
      "text/plain": [
       "[1, 2, 4, 2]"
      ]
     },
     "execution_count": 22,
     "metadata": {},
     "output_type": "execute_result"
    }
   ],
   "source": [
    "l1"
   ]
  },
  {
   "cell_type": "code",
   "execution_count": 23,
   "id": "e58197cb",
   "metadata": {},
   "outputs": [
    {
     "name": "stdout",
     "output_type": "stream",
     "text": [
      "None\n"
     ]
    }
   ],
   "source": [
    "print(new_value)"
   ]
  },
  {
   "cell_type": "code",
   "execution_count": 24,
   "id": "3e158e0b",
   "metadata": {},
   "outputs": [
    {
     "name": "stdout",
     "output_type": "stream",
     "text": [
      "Even\n"
     ]
    }
   ],
   "source": [
    "value_3 = even_odd(88)"
   ]
  },
  {
   "cell_type": "code",
   "execution_count": 26,
   "id": "00a12828",
   "metadata": {},
   "outputs": [
    {
     "name": "stdout",
     "output_type": "stream",
     "text": [
      "None\n"
     ]
    }
   ],
   "source": [
    "print(value_3)"
   ]
  },
  {
   "cell_type": "code",
   "execution_count": 27,
   "id": "27203d4d",
   "metadata": {},
   "outputs": [],
   "source": [
    "def even_odd(num):\n",
    "    '''\n",
    "    This function takes an integer and check if it is odd or even.\n",
    "    '''\n",
    "    if num % 2 == 0:\n",
    "        return \"Even\"\n",
    "    else:\n",
    "        return \"Odd\""
   ]
  },
  {
   "cell_type": "code",
   "execution_count": 28,
   "id": "0b66d02e",
   "metadata": {},
   "outputs": [],
   "source": [
    "value_4 = even_odd(4)"
   ]
  },
  {
   "cell_type": "code",
   "execution_count": 30,
   "id": "c2959d27",
   "metadata": {},
   "outputs": [
    {
     "name": "stdout",
     "output_type": "stream",
     "text": [
      "Even\n"
     ]
    }
   ],
   "source": [
    "print(value_4)"
   ]
  },
  {
   "cell_type": "code",
   "execution_count": 31,
   "id": "23f4dc22",
   "metadata": {},
   "outputs": [],
   "source": [
    "def add(num_1, num_2):\n",
    "    return num_1 + num_2"
   ]
  },
  {
   "cell_type": "code",
   "execution_count": 32,
   "id": "abb0a6ec",
   "metadata": {},
   "outputs": [
    {
     "data": {
      "text/plain": [
       "30"
      ]
     },
     "execution_count": 32,
     "metadata": {},
     "output_type": "execute_result"
    }
   ],
   "source": [
    "add(10,20)"
   ]
  },
  {
   "cell_type": "code",
   "execution_count": 37,
   "id": "4b346c66",
   "metadata": {},
   "outputs": [],
   "source": [
    "def arithmatic(num_1, num_2):\n",
    "    addition = num_1 + num_2\n",
    "    return addition\n",
    "    sub = num_1 - num_2\n",
    "    return sub\n",
    "    multiplication = num_1 * num_2\n",
    "    return multiplication\n"
   ]
  },
  {
   "cell_type": "code",
   "execution_count": 34,
   "id": "3e49d6af",
   "metadata": {},
   "outputs": [],
   "source": [
    "value_5 = arithmatic(10,4)"
   ]
  },
  {
   "cell_type": "code",
   "execution_count": 35,
   "id": "857d031e",
   "metadata": {},
   "outputs": [
    {
     "data": {
      "text/plain": [
       "14"
      ]
     },
     "execution_count": 35,
     "metadata": {},
     "output_type": "execute_result"
    }
   ],
   "source": [
    "value_5"
   ]
  },
  {
   "cell_type": "code",
   "execution_count": 38,
   "id": "182e2967",
   "metadata": {},
   "outputs": [],
   "source": [
    "def arithmatic(num_1, num_2):\n",
    "    addition = num_1 + num_2\n",
    "     \n",
    "    sub = num_1 - num_2\n",
    "    \n",
    "    multiplication = num_1 * num_2\n",
    "    return addition, sub, multiplication"
   ]
  },
  {
   "cell_type": "code",
   "execution_count": 45,
   "id": "e71a6de7",
   "metadata": {},
   "outputs": [],
   "source": [
    "value_6 = arithmatic(10,4)"
   ]
  },
  {
   "cell_type": "code",
   "execution_count": 46,
   "id": "5faf3499",
   "metadata": {},
   "outputs": [
    {
     "name": "stdout",
     "output_type": "stream",
     "text": [
      "(14, 6, 40)\n"
     ]
    }
   ],
   "source": [
    "print(value_6)"
   ]
  },
  {
   "cell_type": "code",
   "execution_count": 47,
   "id": "0b53e0dd",
   "metadata": {},
   "outputs": [
    {
     "data": {
      "text/plain": [
       "tuple"
      ]
     },
     "execution_count": 47,
     "metadata": {},
     "output_type": "execute_result"
    }
   ],
   "source": [
    "type(value_6)"
   ]
  },
  {
   "cell_type": "code",
   "execution_count": 42,
   "id": "5f37a552",
   "metadata": {},
   "outputs": [],
   "source": [
    "value_7 = 12, 13, 14"
   ]
  },
  {
   "cell_type": "code",
   "execution_count": 43,
   "id": "2c37c557",
   "metadata": {},
   "outputs": [
    {
     "data": {
      "text/plain": [
       "(12, 13, 14)"
      ]
     },
     "execution_count": 43,
     "metadata": {},
     "output_type": "execute_result"
    }
   ],
   "source": [
    "value_7"
   ]
  },
  {
   "cell_type": "code",
   "execution_count": 48,
   "id": "4d3f12f6",
   "metadata": {},
   "outputs": [],
   "source": [
    "x, y, z = arithmatic(5,4)"
   ]
  },
  {
   "cell_type": "code",
   "execution_count": 49,
   "id": "04e82c93",
   "metadata": {},
   "outputs": [
    {
     "data": {
      "text/plain": [
       "9"
      ]
     },
     "execution_count": 49,
     "metadata": {},
     "output_type": "execute_result"
    }
   ],
   "source": [
    "x"
   ]
  },
  {
   "cell_type": "code",
   "execution_count": 50,
   "id": "73c2a175",
   "metadata": {},
   "outputs": [
    {
     "data": {
      "text/plain": [
       "1"
      ]
     },
     "execution_count": 50,
     "metadata": {},
     "output_type": "execute_result"
    }
   ],
   "source": [
    "y"
   ]
  },
  {
   "cell_type": "code",
   "execution_count": 51,
   "id": "b78440ea",
   "metadata": {},
   "outputs": [
    {
     "data": {
      "text/plain": [
       "20"
      ]
     },
     "execution_count": 51,
     "metadata": {},
     "output_type": "execute_result"
    }
   ],
   "source": [
    "z"
   ]
  },
  {
   "cell_type": "code",
   "execution_count": 52,
   "id": "3284773d",
   "metadata": {},
   "outputs": [],
   "source": [
    "a,b,c = (8,9,10)"
   ]
  },
  {
   "cell_type": "code",
   "execution_count": 53,
   "id": "f604188c",
   "metadata": {},
   "outputs": [
    {
     "data": {
      "text/plain": [
       "8"
      ]
     },
     "execution_count": 53,
     "metadata": {},
     "output_type": "execute_result"
    }
   ],
   "source": [
    "a\n"
   ]
  },
  {
   "cell_type": "code",
   "execution_count": 54,
   "id": "3d7d890b",
   "metadata": {},
   "outputs": [
    {
     "data": {
      "text/plain": [
       "9"
      ]
     },
     "execution_count": 54,
     "metadata": {},
     "output_type": "execute_result"
    }
   ],
   "source": [
    "b\n"
   ]
  },
  {
   "cell_type": "code",
   "execution_count": 55,
   "id": "8b7b6ed6",
   "metadata": {},
   "outputs": [
    {
     "data": {
      "text/plain": [
       "10"
      ]
     },
     "execution_count": 55,
     "metadata": {},
     "output_type": "execute_result"
    }
   ],
   "source": [
    "c"
   ]
  },
  {
   "cell_type": "code",
   "execution_count": 56,
   "id": "f94e1b11",
   "metadata": {},
   "outputs": [
    {
     "name": "stdout",
     "output_type": "stream",
     "text": [
      "Help on function arithmatic in module __main__:\n",
      "\n",
      "arithmatic(num_1, num_2)\n",
      "\n"
     ]
    }
   ],
   "source": [
    "help(arithmatic)"
   ]
  },
  {
   "cell_type": "code",
   "execution_count": 57,
   "id": "15cb6911",
   "metadata": {},
   "outputs": [
    {
     "name": "stdout",
     "output_type": "stream",
     "text": [
      "Odd\n"
     ]
    }
   ],
   "source": [
    "print(even_odd(89))"
   ]
  },
  {
   "cell_type": "code",
   "execution_count": 58,
   "id": "fa398cb4",
   "metadata": {},
   "outputs": [
    {
     "data": {
      "text/plain": [
       "'Odd'"
      ]
     },
     "execution_count": 58,
     "metadata": {},
     "output_type": "execute_result"
    }
   ],
   "source": [
    "even_odd(87)"
   ]
  },
  {
   "cell_type": "code",
   "execution_count": 59,
   "id": "d57fa939",
   "metadata": {},
   "outputs": [
    {
     "data": {
      "text/plain": [
       "(5, -3, 4)"
      ]
     },
     "execution_count": 59,
     "metadata": {},
     "output_type": "execute_result"
    }
   ],
   "source": [
    "arithmatic(1,4)"
   ]
  },
  {
   "cell_type": "code",
   "execution_count": 60,
   "id": "a5b4ae07",
   "metadata": {},
   "outputs": [
    {
     "ename": "TypeError",
     "evalue": "arithmatic() takes 2 positional arguments but 3 were given",
     "output_type": "error",
     "traceback": [
      "\u001b[1;31m---------------------------------------------------------------------------\u001b[0m",
      "\u001b[1;31mTypeError\u001b[0m                                 Traceback (most recent call last)",
      "Cell \u001b[1;32mIn[60], line 1\u001b[0m\n\u001b[1;32m----> 1\u001b[0m \u001b[43marithmatic\u001b[49m\u001b[43m(\u001b[49m\u001b[38;5;241;43m1\u001b[39;49m\u001b[43m,\u001b[49m\u001b[38;5;241;43m4\u001b[39;49m\u001b[43m,\u001b[49m\u001b[38;5;241;43m30\u001b[39;49m\u001b[43m)\u001b[49m\n",
      "\u001b[1;31mTypeError\u001b[0m: arithmatic() takes 2 positional arguments but 3 were given"
     ]
    }
   ],
   "source": [
    "arithmatic(1,4,30)"
   ]
  },
  {
   "cell_type": "code",
   "execution_count": 61,
   "id": "f53c54dd",
   "metadata": {},
   "outputs": [
    {
     "ename": "TypeError",
     "evalue": "arithmatic() missing 1 required positional argument: 'num_2'",
     "output_type": "error",
     "traceback": [
      "\u001b[1;31m---------------------------------------------------------------------------\u001b[0m",
      "\u001b[1;31mTypeError\u001b[0m                                 Traceback (most recent call last)",
      "Cell \u001b[1;32mIn[61], line 1\u001b[0m\n\u001b[1;32m----> 1\u001b[0m \u001b[43marithmatic\u001b[49m\u001b[43m(\u001b[49m\u001b[38;5;241;43m1\u001b[39;49m\u001b[43m)\u001b[49m\n",
      "\u001b[1;31mTypeError\u001b[0m: arithmatic() missing 1 required positional argument: 'num_2'"
     ]
    }
   ],
   "source": [
    "arithmatic(1)"
   ]
  },
  {
   "cell_type": "code",
   "execution_count": 62,
   "id": "d0a70798",
   "metadata": {},
   "outputs": [
    {
     "ename": "TypeError",
     "evalue": "arithmatic() missing 2 required positional arguments: 'num_1' and 'num_2'",
     "output_type": "error",
     "traceback": [
      "\u001b[1;31m---------------------------------------------------------------------------\u001b[0m",
      "\u001b[1;31mTypeError\u001b[0m                                 Traceback (most recent call last)",
      "Cell \u001b[1;32mIn[62], line 1\u001b[0m\n\u001b[1;32m----> 1\u001b[0m \u001b[43marithmatic\u001b[49m\u001b[43m(\u001b[49m\u001b[43m)\u001b[49m\n",
      "\u001b[1;31mTypeError\u001b[0m: arithmatic() missing 2 required positional arguments: 'num_1' and 'num_2'"
     ]
    }
   ],
   "source": [
    "arithmatic()"
   ]
  },
  {
   "cell_type": "code",
   "execution_count": 63,
   "id": "ae631818",
   "metadata": {},
   "outputs": [
    {
     "ename": "TypeError",
     "evalue": "unsupported operand type(s) for +: 'int' and 'str'",
     "output_type": "error",
     "traceback": [
      "\u001b[1;31m---------------------------------------------------------------------------\u001b[0m",
      "\u001b[1;31mTypeError\u001b[0m                                 Traceback (most recent call last)",
      "Cell \u001b[1;32mIn[63], line 1\u001b[0m\n\u001b[1;32m----> 1\u001b[0m \u001b[43marithmatic\u001b[49m\u001b[43m(\u001b[49m\u001b[38;5;241;43m1\u001b[39;49m\u001b[43m,\u001b[49m\u001b[38;5;124;43m\"\u001b[39;49m\u001b[38;5;124;43mhi\u001b[39;49m\u001b[38;5;124;43m\"\u001b[39;49m\u001b[43m)\u001b[49m\n",
      "Cell \u001b[1;32mIn[38], line 2\u001b[0m, in \u001b[0;36marithmatic\u001b[1;34m(num_1, num_2)\u001b[0m\n\u001b[0;32m      1\u001b[0m \u001b[38;5;28;01mdef\u001b[39;00m \u001b[38;5;21marithmatic\u001b[39m(num_1, num_2):\n\u001b[1;32m----> 2\u001b[0m     addition \u001b[38;5;241m=\u001b[39m \u001b[43mnum_1\u001b[49m\u001b[43m \u001b[49m\u001b[38;5;241;43m+\u001b[39;49m\u001b[43m \u001b[49m\u001b[43mnum_2\u001b[49m\n\u001b[0;32m      4\u001b[0m     sub \u001b[38;5;241m=\u001b[39m num_1 \u001b[38;5;241m-\u001b[39m num_2\n\u001b[0;32m      6\u001b[0m     multiplication \u001b[38;5;241m=\u001b[39m num_1 \u001b[38;5;241m*\u001b[39m num_2\n",
      "\u001b[1;31mTypeError\u001b[0m: unsupported operand type(s) for +: 'int' and 'str'"
     ]
    }
   ],
   "source": [
    "arithmatic(1,\"hi\")"
   ]
  },
  {
   "cell_type": "code",
   "execution_count": 64,
   "id": "28400c55",
   "metadata": {},
   "outputs": [
    {
     "data": {
      "text/plain": [
       "True"
      ]
     },
     "execution_count": 64,
     "metadata": {},
     "output_type": "execute_result"
    }
   ],
   "source": [
    "isinstance(10, int)"
   ]
  },
  {
   "cell_type": "code",
   "execution_count": 65,
   "id": "94bf0f97",
   "metadata": {},
   "outputs": [
    {
     "data": {
      "text/plain": [
       "True"
      ]
     },
     "execution_count": 65,
     "metadata": {},
     "output_type": "execute_result"
    }
   ],
   "source": [
    "isinstance(\"hello\", str)"
   ]
  },
  {
   "cell_type": "code",
   "execution_count": 66,
   "id": "2f4a7b9f",
   "metadata": {},
   "outputs": [
    {
     "data": {
      "text/plain": [
       "False"
      ]
     },
     "execution_count": 66,
     "metadata": {},
     "output_type": "execute_result"
    }
   ],
   "source": [
    "isinstance(\"hi\", int)"
   ]
  },
  {
   "cell_type": "code",
   "execution_count": 67,
   "id": "b676e5b5",
   "metadata": {},
   "outputs": [],
   "source": [
    "def arithmatic(num_1, num_2):\n",
    "    if isinstance(num_1, int) and isinstance(num_2, int):\n",
    "        addition = num_1 + num_2\n",
    "        sub = num_1 - num_2\n",
    "        multiplication = num_1 * num_2\n",
    "        return addition, sub, multiplication\n",
    "    else:\n",
    "        return \"Operation not supported. Please provide integers only\""
   ]
  },
  {
   "cell_type": "code",
   "execution_count": 68,
   "id": "d01393c5",
   "metadata": {},
   "outputs": [
    {
     "data": {
      "text/plain": [
       "'Operation not supported. Please provide integers only'"
      ]
     },
     "execution_count": 68,
     "metadata": {},
     "output_type": "execute_result"
    }
   ],
   "source": [
    "arithmatic(10,\"hi\")"
   ]
  },
  {
   "cell_type": "code",
   "execution_count": 69,
   "id": "cbe27b65",
   "metadata": {},
   "outputs": [],
   "source": [
    "def add(a,b=1):\n",
    "    return a+b"
   ]
  },
  {
   "cell_type": "code",
   "execution_count": 70,
   "id": "050b5845",
   "metadata": {},
   "outputs": [
    {
     "data": {
      "text/plain": [
       "11"
      ]
     },
     "execution_count": 70,
     "metadata": {},
     "output_type": "execute_result"
    }
   ],
   "source": [
    "add(10)"
   ]
  },
  {
   "cell_type": "code",
   "execution_count": 72,
   "id": "041c35ba",
   "metadata": {},
   "outputs": [
    {
     "name": "stdout",
     "output_type": "stream",
     "text": [
      "Help on built-in function print in module builtins:\n",
      "\n",
      "print(...)\n",
      "    print(value, ..., sep=' ', end='\\n', file=sys.stdout, flush=False)\n",
      "    \n",
      "    Prints the values to a stream, or to sys.stdout by default.\n",
      "    Optional keyword arguments:\n",
      "    file:  a file-like object (stream); defaults to the current sys.stdout.\n",
      "    sep:   string inserted between values, default a space.\n",
      "    end:   string appended after the last value, default a newline.\n",
      "    flush: whether to forcibly flush the stream.\n",
      "\n"
     ]
    }
   ],
   "source": [
    "help(print)"
   ]
  },
  {
   "cell_type": "code",
   "execution_count": 73,
   "id": "f8605d62",
   "metadata": {},
   "outputs": [
    {
     "ename": "TypeError",
     "evalue": "add() missing 1 required positional argument: 'a'",
     "output_type": "error",
     "traceback": [
      "\u001b[1;31m---------------------------------------------------------------------------\u001b[0m",
      "\u001b[1;31mTypeError\u001b[0m                                 Traceback (most recent call last)",
      "Cell \u001b[1;32mIn[73], line 1\u001b[0m\n\u001b[1;32m----> 1\u001b[0m \u001b[43madd\u001b[49m\u001b[43m(\u001b[49m\u001b[43m)\u001b[49m\n",
      "\u001b[1;31mTypeError\u001b[0m: add() missing 1 required positional argument: 'a'"
     ]
    }
   ],
   "source": [
    "add()"
   ]
  },
  {
   "cell_type": "code",
   "execution_count": 78,
   "id": "5744be39",
   "metadata": {},
   "outputs": [],
   "source": [
    "def add_three_num(a,b=1,c=2):\n",
    "    print(f\"a:{a}\")\n",
    "    print(f\"b:{b}\")\n",
    "    print(f\"c:{c}\")\n",
    "    return a+b+c\n",
    "    "
   ]
  },
  {
   "cell_type": "code",
   "execution_count": 79,
   "id": "98c6a841",
   "metadata": {},
   "outputs": [
    {
     "name": "stdout",
     "output_type": "stream",
     "text": [
      "a:1\n",
      "b:2\n",
      "c:3\n"
     ]
    },
    {
     "data": {
      "text/plain": [
       "6"
      ]
     },
     "execution_count": 79,
     "metadata": {},
     "output_type": "execute_result"
    }
   ],
   "source": [
    "add_three_num(1,2,3)"
   ]
  },
  {
   "cell_type": "code",
   "execution_count": 80,
   "id": "7918ff68",
   "metadata": {},
   "outputs": [
    {
     "name": "stdout",
     "output_type": "stream",
     "text": [
      "a:1\n",
      "b:1\n",
      "c:2\n"
     ]
    },
    {
     "data": {
      "text/plain": [
       "4"
      ]
     },
     "execution_count": 80,
     "metadata": {},
     "output_type": "execute_result"
    }
   ],
   "source": [
    "add_three_num(1)"
   ]
  },
  {
   "cell_type": "code",
   "execution_count": 81,
   "id": "15bc05a5",
   "metadata": {},
   "outputs": [
    {
     "ename": "TypeError",
     "evalue": "add_three_num() missing 1 required positional argument: 'a'",
     "output_type": "error",
     "traceback": [
      "\u001b[1;31m---------------------------------------------------------------------------\u001b[0m",
      "\u001b[1;31mTypeError\u001b[0m                                 Traceback (most recent call last)",
      "Cell \u001b[1;32mIn[81], line 1\u001b[0m\n\u001b[1;32m----> 1\u001b[0m \u001b[43madd_three_num\u001b[49m\u001b[43m(\u001b[49m\u001b[43m)\u001b[49m\n",
      "\u001b[1;31mTypeError\u001b[0m: add_three_num() missing 1 required positional argument: 'a'"
     ]
    }
   ],
   "source": [
    "add_three_num()"
   ]
  },
  {
   "cell_type": "code",
   "execution_count": 82,
   "id": "1e3dfa8b",
   "metadata": {},
   "outputs": [
    {
     "name": "stdout",
     "output_type": "stream",
     "text": [
      "a:10\n",
      "b:1\n",
      "c:50\n"
     ]
    },
    {
     "data": {
      "text/plain": [
       "61"
      ]
     },
     "execution_count": 82,
     "metadata": {},
     "output_type": "execute_result"
    }
   ],
   "source": [
    "add_three_num(a=10,c=50)"
   ]
  },
  {
   "cell_type": "code",
   "execution_count": 83,
   "id": "3224e5c9",
   "metadata": {},
   "outputs": [
    {
     "name": "stdout",
     "output_type": "stream",
     "text": [
      "a:0\n",
      "b:1\n",
      "c:50\n"
     ]
    },
    {
     "data": {
      "text/plain": [
       "51"
      ]
     },
     "execution_count": 83,
     "metadata": {},
     "output_type": "execute_result"
    }
   ],
   "source": [
    "add_three_num(0,c=50)"
   ]
  },
  {
   "cell_type": "code",
   "execution_count": 84,
   "id": "08322930",
   "metadata": {},
   "outputs": [
    {
     "ename": "TypeError",
     "evalue": "add_three_num() got an unexpected keyword argument 'x'",
     "output_type": "error",
     "traceback": [
      "\u001b[1;31m---------------------------------------------------------------------------\u001b[0m",
      "\u001b[1;31mTypeError\u001b[0m                                 Traceback (most recent call last)",
      "Cell \u001b[1;32mIn[84], line 1\u001b[0m\n\u001b[1;32m----> 1\u001b[0m \u001b[43madd_three_num\u001b[49m\u001b[43m(\u001b[49m\u001b[38;5;241;43m0\u001b[39;49m\u001b[43m,\u001b[49m\u001b[43mx\u001b[49m\u001b[38;5;241;43m=\u001b[39;49m\u001b[38;5;241;43m50\u001b[39;49m\u001b[43m)\u001b[49m\n",
      "\u001b[1;31mTypeError\u001b[0m: add_three_num() got an unexpected keyword argument 'x'"
     ]
    }
   ],
   "source": [
    "add_three_num(0,x=50)"
   ]
  },
  {
   "cell_type": "code",
   "execution_count": 85,
   "id": "66289298",
   "metadata": {},
   "outputs": [
    {
     "ename": "SyntaxError",
     "evalue": "non-default argument follows default argument (4161864532.py, line 1)",
     "output_type": "error",
     "traceback": [
      "\u001b[1;36m  Cell \u001b[1;32mIn[85], line 1\u001b[1;36m\u001b[0m\n\u001b[1;33m    def add_three_num(a=1,b,c=2):\u001b[0m\n\u001b[1;37m                          ^\u001b[0m\n\u001b[1;31mSyntaxError\u001b[0m\u001b[1;31m:\u001b[0m non-default argument follows default argument\n"
     ]
    }
   ],
   "source": [
    "def add_three_num(a=1,b,c=2):\n",
    "    print(f\"a:{a}\")\n",
    "    print(f\"b:{b}\")\n",
    "    print(f\"c:{c}\")\n",
    "    return a+b+c\n",
    "    "
   ]
  },
  {
   "cell_type": "code",
   "execution_count": 86,
   "id": "3fe3520f",
   "metadata": {},
   "outputs": [],
   "source": [
    "def add_three_num(b,a=1,c=2):\n",
    "    print(f\"a:{a}\")\n",
    "    print(f\"b:{b}\")\n",
    "    print(f\"c:{c}\")\n",
    "    return a+b+c\n",
    "    "
   ]
  },
  {
   "cell_type": "code",
   "execution_count": null,
   "id": "c438c9d5",
   "metadata": {},
   "outputs": [],
   "source": []
  }
 ],
 "metadata": {
  "kernelspec": {
   "display_name": "Python 3 (ipykernel)",
   "language": "python",
   "name": "python3"
  },
  "language_info": {
   "codemirror_mode": {
    "name": "ipython",
    "version": 3
   },
   "file_extension": ".py",
   "mimetype": "text/x-python",
   "name": "python",
   "nbconvert_exporter": "python",
   "pygments_lexer": "ipython3",
   "version": "3.10.5"
  }
 },
 "nbformat": 4,
 "nbformat_minor": 5
}
