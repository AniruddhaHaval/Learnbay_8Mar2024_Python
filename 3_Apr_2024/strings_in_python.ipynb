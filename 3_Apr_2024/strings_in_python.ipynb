{
 "cells": [
  {
   "cell_type": "code",
   "execution_count": 1,
   "id": "59af6f02",
   "metadata": {},
   "outputs": [],
   "source": [
    "s2 = 'We are learning Python. Python is fun!'"
   ]
  },
  {
   "cell_type": "code",
   "execution_count": 2,
   "id": "db362f9d",
   "metadata": {},
   "outputs": [
    {
     "name": "stdout",
     "output_type": "stream",
     "text": [
      "Yes\n"
     ]
    }
   ],
   "source": [
    "if 'Python' in s2:\n",
    "    print(\"Yes\")"
   ]
  },
  {
   "cell_type": "code",
   "execution_count": 3,
   "id": "bb08f7a6",
   "metadata": {},
   "outputs": [
    {
     "name": "stdout",
     "output_type": "stream",
     "text": [
      "String one: abcd efgh\n",
      "String two: abcd\n"
     ]
    }
   ],
   "source": [
    "s1 = input(\"String one: \")\n",
    "s2 = input(\"String two: \")\n",
    "\n",
    "if s1 == s2:\n",
    "    print(\"Same\")"
   ]
  },
  {
   "cell_type": "code",
   "execution_count": 4,
   "id": "4b222c02",
   "metadata": {},
   "outputs": [],
   "source": [
    "# strip method"
   ]
  },
  {
   "cell_type": "code",
   "execution_count": 6,
   "id": "9a686f52",
   "metadata": {},
   "outputs": [
    {
     "name": "stdout",
     "output_type": "stream",
     "text": [
      "String one:         abc   \n",
      "String two:    abc \n",
      "Same\n"
     ]
    }
   ],
   "source": [
    "s1 = input(\"String one: \")\n",
    "s2 = input(\"String two: \")\n",
    "s1 = s1.strip()\n",
    "s2 = s2.strip()\n",
    "if s1 == s2:\n",
    "    print(\"Same\")\n",
    "else:\n",
    "    print(\"Different\")"
   ]
  },
  {
   "cell_type": "code",
   "execution_count": 7,
   "id": "16a82255",
   "metadata": {},
   "outputs": [
    {
     "name": "stdout",
     "output_type": "stream",
     "text": [
      "String one:   abc          \n",
      "String two:  abc                        \n",
      "Same\n"
     ]
    }
   ],
   "source": [
    "s1 = input(\"String one: \").strip()\n",
    "s2 = input(\"String two: \").strip()\n",
    "# s1 = s1.strip()\n",
    "# s2 = s2.strip()\n",
    "if s1 == s2:\n",
    "    print(\"Same\")\n",
    "else:\n",
    "    print(\"Different\")"
   ]
  },
  {
   "cell_type": "code",
   "execution_count": 8,
   "id": "37815fdc",
   "metadata": {},
   "outputs": [
    {
     "data": {
      "text/plain": [
       "'abc'"
      ]
     },
     "execution_count": 8,
     "metadata": {},
     "output_type": "execute_result"
    }
   ],
   "source": [
    "s1"
   ]
  },
  {
   "cell_type": "code",
   "execution_count": 9,
   "id": "9c855c65",
   "metadata": {},
   "outputs": [
    {
     "data": {
      "text/plain": [
       "'abc'"
      ]
     },
     "execution_count": 9,
     "metadata": {},
     "output_type": "execute_result"
    }
   ],
   "source": [
    "s2"
   ]
  },
  {
   "cell_type": "code",
   "execution_count": 11,
   "id": "70b54774",
   "metadata": {},
   "outputs": [
    {
     "name": "stdout",
     "output_type": "stream",
     "text": [
      "Help on built-in function strip:\n",
      "\n",
      "strip(chars=None, /) method of builtins.str instance\n",
      "    Return a copy of the string with leading and trailing whitespace removed.\n",
      "    \n",
      "    If chars is given and not None, remove characters in chars instead.\n",
      "\n"
     ]
    }
   ],
   "source": [
    "help(s1.strip)"
   ]
  },
  {
   "cell_type": "code",
   "execution_count": 12,
   "id": "6341835f",
   "metadata": {},
   "outputs": [
    {
     "data": {
      "text/plain": [
       "'bc'"
      ]
     },
     "execution_count": 12,
     "metadata": {},
     "output_type": "execute_result"
    }
   ],
   "source": [
    "s1.strip('a')"
   ]
  },
  {
   "cell_type": "code",
   "execution_count": 13,
   "id": "dc9e0150",
   "metadata": {},
   "outputs": [],
   "source": [
    "s3 = 'PyPythonPyPy'"
   ]
  },
  {
   "cell_type": "code",
   "execution_count": 14,
   "id": "b580bdfd",
   "metadata": {},
   "outputs": [
    {
     "data": {
      "text/plain": [
       "'thon'"
      ]
     },
     "execution_count": 14,
     "metadata": {},
     "output_type": "execute_result"
    }
   ],
   "source": [
    "s3.strip('Py')"
   ]
  },
  {
   "cell_type": "code",
   "execution_count": 19,
   "id": "22e55e3c",
   "metadata": {},
   "outputs": [
    {
     "data": {
      "text/plain": [
       "' PyPythonPyPy '"
      ]
     },
     "execution_count": 19,
     "metadata": {},
     "output_type": "execute_result"
    }
   ],
   "source": [
    "s4 = 'Py PyPythonPyPy Py'\n",
    "s4.strip('Py')"
   ]
  },
  {
   "cell_type": "code",
   "execution_count": 16,
   "id": "f7026153",
   "metadata": {},
   "outputs": [
    {
     "data": {
      "text/plain": [
       "'thon'"
      ]
     },
     "execution_count": 16,
     "metadata": {},
     "output_type": "execute_result"
    }
   ],
   "source": [
    "s5 = ' Py PyPythonPyPy Py'\n",
    "s5.strip(' Py')"
   ]
  },
  {
   "cell_type": "code",
   "execution_count": 18,
   "id": "7b426750",
   "metadata": {},
   "outputs": [
    {
     "data": {
      "text/plain": [
       "' PyPythonPyPy '"
      ]
     },
     "execution_count": 18,
     "metadata": {},
     "output_type": "execute_result"
    }
   ],
   "source": [
    "s4_1 = 'Py PyPythonPyPy Pyy'\n",
    "s4_1.strip('Py')"
   ]
  },
  {
   "cell_type": "code",
   "execution_count": 20,
   "id": "6f72aaaf",
   "metadata": {},
   "outputs": [],
   "source": [
    "# rstrip"
   ]
  },
  {
   "cell_type": "code",
   "execution_count": 23,
   "id": "d1b51a69",
   "metadata": {},
   "outputs": [],
   "source": [
    "s5 = \"  abc  \""
   ]
  },
  {
   "cell_type": "code",
   "execution_count": 24,
   "id": "d7d36eca",
   "metadata": {},
   "outputs": [
    {
     "data": {
      "text/plain": [
       "'  abc'"
      ]
     },
     "execution_count": 24,
     "metadata": {},
     "output_type": "execute_result"
    }
   ],
   "source": [
    "s5.rstrip()"
   ]
  },
  {
   "cell_type": "code",
   "execution_count": 25,
   "id": "1d06a52c",
   "metadata": {},
   "outputs": [
    {
     "data": {
      "text/plain": [
       "'abc  '"
      ]
     },
     "execution_count": 25,
     "metadata": {},
     "output_type": "execute_result"
    }
   ],
   "source": [
    "s5.lstrip()"
   ]
  },
  {
   "cell_type": "code",
   "execution_count": 26,
   "id": "0cc19768",
   "metadata": {},
   "outputs": [],
   "source": [
    "# find"
   ]
  },
  {
   "cell_type": "code",
   "execution_count": 34,
   "id": "30edd5d9",
   "metadata": {},
   "outputs": [],
   "source": [
    "s6 = 'We are learning Python. Python is fun!'"
   ]
  },
  {
   "cell_type": "code",
   "execution_count": 29,
   "id": "5a2f5cef",
   "metadata": {},
   "outputs": [
    {
     "name": "stdout",
     "output_type": "stream",
     "text": [
      "Help on built-in function find:\n",
      "\n",
      "find(...) method of builtins.str instance\n",
      "    S.find(sub[, start[, end]]) -> int\n",
      "    \n",
      "    Return the lowest index in S where substring sub is found,\n",
      "    such that sub is contained within S[start:end].  Optional\n",
      "    arguments start and end are interpreted as in slice notation.\n",
      "    \n",
      "    Return -1 on failure.\n",
      "\n"
     ]
    }
   ],
   "source": [
    "help(s6.find)"
   ]
  },
  {
   "cell_type": "code",
   "execution_count": 35,
   "id": "efb3cc8d",
   "metadata": {},
   "outputs": [
    {
     "data": {
      "text/plain": [
       "1"
      ]
     },
     "execution_count": 35,
     "metadata": {},
     "output_type": "execute_result"
    }
   ],
   "source": [
    "s6.find(\"e\")\n"
   ]
  },
  {
   "cell_type": "code",
   "execution_count": 36,
   "id": "6a660bf5",
   "metadata": {},
   "outputs": [
    {
     "data": {
      "text/plain": [
       "-1"
      ]
     },
     "execution_count": 36,
     "metadata": {},
     "output_type": "execute_result"
    }
   ],
   "source": [
    "s6.find('Z')"
   ]
  },
  {
   "cell_type": "code",
   "execution_count": 37,
   "id": "6d0fd945",
   "metadata": {},
   "outputs": [
    {
     "data": {
      "text/plain": [
       "16"
      ]
     },
     "execution_count": 37,
     "metadata": {},
     "output_type": "execute_result"
    }
   ],
   "source": [
    "s6.find(\"Python\")"
   ]
  },
  {
   "cell_type": "code",
   "execution_count": 38,
   "id": "4cbd0cd6",
   "metadata": {},
   "outputs": [
    {
     "data": {
      "text/plain": [
       "'P'"
      ]
     },
     "execution_count": 38,
     "metadata": {},
     "output_type": "execute_result"
    }
   ],
   "source": [
    "s6[16]"
   ]
  },
  {
   "cell_type": "code",
   "execution_count": 40,
   "id": "cf21528e",
   "metadata": {},
   "outputs": [
    {
     "data": {
      "text/plain": [
       "5"
      ]
     },
     "execution_count": 40,
     "metadata": {},
     "output_type": "execute_result"
    }
   ],
   "source": [
    "s6.find(\"e\", 4, 10) #find between 4 and 10"
   ]
  },
  {
   "cell_type": "code",
   "execution_count": 41,
   "id": "dfdd6bad",
   "metadata": {},
   "outputs": [
    {
     "data": {
      "text/plain": [
       "8"
      ]
     },
     "execution_count": 41,
     "metadata": {},
     "output_type": "execute_result"
    }
   ],
   "source": [
    "s6.rfind('e')"
   ]
  },
  {
   "cell_type": "code",
   "execution_count": 42,
   "id": "7443ffc5",
   "metadata": {},
   "outputs": [
    {
     "data": {
      "text/plain": [
       "1"
      ]
     },
     "execution_count": 42,
     "metadata": {},
     "output_type": "execute_result"
    }
   ],
   "source": [
    "s6.index('e')"
   ]
  },
  {
   "cell_type": "code",
   "execution_count": 44,
   "id": "18b75ede",
   "metadata": {},
   "outputs": [
    {
     "data": {
      "text/plain": [
       "16"
      ]
     },
     "execution_count": 44,
     "metadata": {},
     "output_type": "execute_result"
    }
   ],
   "source": [
    "s6.index('Python')"
   ]
  },
  {
   "cell_type": "code",
   "execution_count": 45,
   "id": "328b59d8",
   "metadata": {},
   "outputs": [
    {
     "ename": "ValueError",
     "evalue": "substring not found",
     "output_type": "error",
     "traceback": [
      "\u001b[1;31m---------------------------------------------------------------------------\u001b[0m",
      "\u001b[1;31mValueError\u001b[0m                                Traceback (most recent call last)",
      "Cell \u001b[1;32mIn[45], line 1\u001b[0m\n\u001b[1;32m----> 1\u001b[0m \u001b[43ms6\u001b[49m\u001b[38;5;241;43m.\u001b[39;49m\u001b[43mindex\u001b[49m\u001b[43m(\u001b[49m\u001b[38;5;124;43m'\u001b[39;49m\u001b[38;5;124;43mZ\u001b[39;49m\u001b[38;5;124;43m'\u001b[39;49m\u001b[43m)\u001b[49m\n",
      "\u001b[1;31mValueError\u001b[0m: substring not found"
     ]
    }
   ],
   "source": [
    "s6.index('Z')"
   ]
  },
  {
   "cell_type": "code",
   "execution_count": 46,
   "id": "e0c34f08",
   "metadata": {},
   "outputs": [],
   "source": [
    "# count"
   ]
  },
  {
   "cell_type": "code",
   "execution_count": 47,
   "id": "3bf49e9d",
   "metadata": {},
   "outputs": [
    {
     "name": "stdout",
     "output_type": "stream",
     "text": [
      "Help on built-in function count:\n",
      "\n",
      "count(...) method of builtins.str instance\n",
      "    S.count(sub[, start[, end]]) -> int\n",
      "    \n",
      "    Return the number of non-overlapping occurrences of substring sub in\n",
      "    string S[start:end].  Optional arguments start and end are\n",
      "    interpreted as in slice notation.\n",
      "\n"
     ]
    }
   ],
   "source": [
    "help(s6.count)"
   ]
  },
  {
   "cell_type": "code",
   "execution_count": 48,
   "id": "d762725e",
   "metadata": {},
   "outputs": [
    {
     "data": {
      "text/plain": [
       "2"
      ]
     },
     "execution_count": 48,
     "metadata": {},
     "output_type": "execute_result"
    }
   ],
   "source": [
    "s6.count(\"P\")"
   ]
  },
  {
   "cell_type": "code",
   "execution_count": 50,
   "id": "271d825b",
   "metadata": {},
   "outputs": [
    {
     "name": "stdout",
     "output_type": "stream",
     "text": [
      "We are learning Python. Python is fun!\n"
     ]
    },
    {
     "data": {
      "text/plain": [
       "0"
      ]
     },
     "execution_count": 50,
     "metadata": {},
     "output_type": "execute_result"
    }
   ],
   "source": [
    "print(s6)\n",
    "s6.count(\"P\", 4, 10)"
   ]
  },
  {
   "cell_type": "code",
   "execution_count": 51,
   "id": "680ac1a4",
   "metadata": {},
   "outputs": [
    {
     "data": {
      "text/plain": [
       "0"
      ]
     },
     "execution_count": 51,
     "metadata": {},
     "output_type": "execute_result"
    }
   ],
   "source": [
    "s6.count(\"Z\")"
   ]
  },
  {
   "cell_type": "code",
   "execution_count": 52,
   "id": "ef809a4b",
   "metadata": {},
   "outputs": [
    {
     "data": {
      "text/plain": [
       "2"
      ]
     },
     "execution_count": 52,
     "metadata": {},
     "output_type": "execute_result"
    }
   ],
   "source": [
    "s6.count(\"Python\")"
   ]
  },
  {
   "cell_type": "code",
   "execution_count": 53,
   "id": "ed235cda",
   "metadata": {},
   "outputs": [
    {
     "data": {
      "text/plain": [
       "2"
      ]
     },
     "execution_count": 53,
     "metadata": {},
     "output_type": "execute_result"
    }
   ],
   "source": [
    "s6.count(\"ar\")"
   ]
  },
  {
   "cell_type": "code",
   "execution_count": 54,
   "id": "6931d3e3",
   "metadata": {},
   "outputs": [
    {
     "data": {
      "text/plain": [
       "6"
      ]
     },
     "execution_count": 54,
     "metadata": {},
     "output_type": "execute_result"
    }
   ],
   "source": [
    "s6.count(\" \")"
   ]
  },
  {
   "cell_type": "code",
   "execution_count": 55,
   "id": "5b1528ba",
   "metadata": {},
   "outputs": [
    {
     "data": {
      "text/plain": [
       "'We are learning Python. Python is fun!'"
      ]
     },
     "execution_count": 55,
     "metadata": {},
     "output_type": "execute_result"
    }
   ],
   "source": [
    "s6"
   ]
  },
  {
   "cell_type": "code",
   "execution_count": 59,
   "id": "1b50b398",
   "metadata": {},
   "outputs": [
    {
     "data": {
      "text/plain": [
       "3"
      ]
     },
     "execution_count": 59,
     "metadata": {},
     "output_type": "execute_result"
    }
   ],
   "source": [
    "s6.count(\"e\")"
   ]
  },
  {
   "cell_type": "code",
   "execution_count": 58,
   "id": "7008cdea",
   "metadata": {},
   "outputs": [
    {
     "name": "stdout",
     "output_type": "stream",
     "text": [
      "3\n"
     ]
    }
   ],
   "source": [
    "e_count = 0\n",
    "for char in s6:\n",
    "    if char == 'e':\n",
    "        e_count += 1\n",
    "print(e_count)"
   ]
  },
  {
   "cell_type": "code",
   "execution_count": 60,
   "id": "b7280b0d",
   "metadata": {},
   "outputs": [
    {
     "name": "stdout",
     "output_type": "stream",
     "text": [
      "e is at index 1\n",
      "e is at index 5\n",
      "e is at index 8\n"
     ]
    }
   ],
   "source": [
    "index_value = 0\n",
    "for char in s6:\n",
    "    if char == 'e':\n",
    "        print(f\"e is at index {index_value}\")\n",
    "    index_value += 1\n",
    "print(e_count)"
   ]
  },
  {
   "cell_type": "code",
   "execution_count": 64,
   "id": "fd21499b",
   "metadata": {},
   "outputs": [
    {
     "name": "stdout",
     "output_type": "stream",
     "text": [
      "e is at index 1\n",
      "e is at index 5\n",
      "e is at index 8\n"
     ]
    }
   ],
   "source": [
    "for i in range(len(s6)):\n",
    "    if s6[i] == 'e':\n",
    "        print(f\"e is at index {i}\")\n",
    "    "
   ]
  },
  {
   "cell_type": "code",
   "execution_count": 70,
   "id": "babe64e2",
   "metadata": {},
   "outputs": [
    {
     "name": "stdout",
     "output_type": "stream",
     "text": [
      "[1, 5, 8]\n"
     ]
    }
   ],
   "source": [
    "list_of_e_index = []\n",
    "for i in range(len(s6)):\n",
    "    if s6[i] == 'e':\n",
    "        list_of_e_index.append(i)\n",
    "print(list_of_e_index)\n",
    "        \n",
    "    "
   ]
  },
  {
   "cell_type": "code",
   "execution_count": 71,
   "id": "37c275c9",
   "metadata": {},
   "outputs": [],
   "source": [
    "list_of_numbers = [10,20,30]\n"
   ]
  },
  {
   "cell_type": "code",
   "execution_count": 72,
   "id": "d1a1b046",
   "metadata": {},
   "outputs": [
    {
     "data": {
      "text/plain": [
       "[10, 20, 30, 40]"
      ]
     },
     "execution_count": 72,
     "metadata": {},
     "output_type": "execute_result"
    }
   ],
   "source": [
    "list_of_numbers.append(40)\n",
    "list_of_numbers"
   ]
  },
  {
   "cell_type": "code",
   "execution_count": null,
   "id": "56e457fb",
   "metadata": {},
   "outputs": [],
   "source": []
  }
 ],
 "metadata": {
  "kernelspec": {
   "display_name": "Python 3 (ipykernel)",
   "language": "python",
   "name": "python3"
  },
  "language_info": {
   "codemirror_mode": {
    "name": "ipython",
    "version": 3
   },
   "file_extension": ".py",
   "mimetype": "text/x-python",
   "name": "python",
   "nbconvert_exporter": "python",
   "pygments_lexer": "ipython3",
   "version": "3.10.5"
  }
 },
 "nbformat": 4,
 "nbformat_minor": 5
}
