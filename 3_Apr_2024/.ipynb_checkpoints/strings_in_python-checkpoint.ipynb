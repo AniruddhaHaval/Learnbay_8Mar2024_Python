{
 "cells": [
  {
   "cell_type": "code",
   "execution_count": 1,
   "id": "3e671334",
   "metadata": {},
   "outputs": [],
   "source": [
    "s2 = 'We are learning Python. Python is fun!'"
   ]
  },
  {
   "cell_type": "code",
   "execution_count": 2,
   "id": "ae064574",
   "metadata": {},
   "outputs": [
    {
     "name": "stdout",
     "output_type": "stream",
     "text": [
      "Yes\n"
     ]
    }
   ],
   "source": [
    "if 'Python' in s2:\n",
    "    print(\"Yes\")"
   ]
  },
  {
   "cell_type": "code",
   "execution_count": 3,
   "id": "e182f477",
   "metadata": {},
   "outputs": [
    {
     "name": "stdout",
     "output_type": "stream",
     "text": [
      "String one: abcd efgh\n",
      "String two: abcd\n"
     ]
    }
   ],
   "source": [
    "s1 = input(\"String one: \")\n",
    "s2 = input(\"String two: \")\n",
    "\n",
    "if s1 == s2:\n",
    "    print(\"Same\")"
   ]
  },
  {
   "cell_type": "code",
   "execution_count": 4,
   "id": "35210a63",
   "metadata": {},
   "outputs": [],
   "source": [
    "# strip method"
   ]
  },
  {
   "cell_type": "code",
   "execution_count": 6,
   "id": "79243672",
   "metadata": {},
   "outputs": [
    {
     "name": "stdout",
     "output_type": "stream",
     "text": [
      "String one:         abc   \n",
      "String two:    abc \n",
      "Same\n"
     ]
    }
   ],
   "source": [
    "s1 = input(\"String one: \")\n",
    "s2 = input(\"String two: \")\n",
    "s1 = s1.strip()\n",
    "s2 = s2.strip()\n",
    "if s1 == s2:\n",
    "    print(\"Same\")\n",
    "else:\n",
    "    print(\"Different\")"
   ]
  },
  {
   "cell_type": "code",
   "execution_count": 7,
   "id": "0985a0c6",
   "metadata": {},
   "outputs": [
    {
     "name": "stdout",
     "output_type": "stream",
     "text": [
      "String one:   abc          \n",
      "String two:  abc                        \n",
      "Same\n"
     ]
    }
   ],
   "source": [
    "s1 = input(\"String one: \").strip()\n",
    "s2 = input(\"String two: \").strip()\n",
    "# s1 = s1.strip()\n",
    "# s2 = s2.strip()\n",
    "if s1 == s2:\n",
    "    print(\"Same\")\n",
    "else:\n",
    "    print(\"Different\")"
   ]
  },
  {
   "cell_type": "code",
   "execution_count": 8,
   "id": "0bcc1229",
   "metadata": {},
   "outputs": [
    {
     "data": {
      "text/plain": [
       "'abc'"
      ]
     },
     "execution_count": 8,
     "metadata": {},
     "output_type": "execute_result"
    }
   ],
   "source": [
    "s1"
   ]
  },
  {
   "cell_type": "code",
   "execution_count": 9,
   "id": "4c533161",
   "metadata": {},
   "outputs": [
    {
     "data": {
      "text/plain": [
       "'abc'"
      ]
     },
     "execution_count": 9,
     "metadata": {},
     "output_type": "execute_result"
    }
   ],
   "source": [
    "s2"
   ]
  },
  {
   "cell_type": "code",
   "execution_count": 11,
   "id": "9ecbf84d",
   "metadata": {},
   "outputs": [
    {
     "name": "stdout",
     "output_type": "stream",
     "text": [
      "Help on built-in function strip:\n",
      "\n",
      "strip(chars=None, /) method of builtins.str instance\n",
      "    Return a copy of the string with leading and trailing whitespace removed.\n",
      "    \n",
      "    If chars is given and not None, remove characters in chars instead.\n",
      "\n"
     ]
    }
   ],
   "source": [
    "help(s1.strip)"
   ]
  },
  {
   "cell_type": "code",
   "execution_count": null,
   "id": "4a1cfa7c",
   "metadata": {},
   "outputs": [],
   "source": []
  }
 ],
 "metadata": {
  "kernelspec": {
   "display_name": "Python 3 (ipykernel)",
   "language": "python",
   "name": "python3"
  },
  "language_info": {
   "codemirror_mode": {
    "name": "ipython",
    "version": 3
   },
   "file_extension": ".py",
   "mimetype": "text/x-python",
   "name": "python",
   "nbconvert_exporter": "python",
   "pygments_lexer": "ipython3",
   "version": "3.10.5"
  }
 },
 "nbformat": 4,
 "nbformat_minor": 5
}
