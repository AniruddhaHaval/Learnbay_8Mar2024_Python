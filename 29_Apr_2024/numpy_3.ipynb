{
 "cells": [
  {
   "cell_type": "code",
   "execution_count": 1,
   "id": "e54743a4-1dd3-46ad-953b-319555f4b115",
   "metadata": {},
   "outputs": [],
   "source": [
    "# Broadcasting"
   ]
  },
  {
   "cell_type": "code",
   "execution_count": 2,
   "id": "15877f09-0a45-442e-b6b0-88b041216a00",
   "metadata": {},
   "outputs": [],
   "source": [
    "import numpy as np"
   ]
  },
  {
   "cell_type": "code",
   "execution_count": 3,
   "id": "3ac95981-e878-4ce7-a83a-d0d0035b28c4",
   "metadata": {},
   "outputs": [],
   "source": [
    "arr1 = np.random.randint(0,9,(5,))"
   ]
  },
  {
   "cell_type": "code",
   "execution_count": 4,
   "id": "a27b4100-584c-45a1-bb5c-13885f0be5c2",
   "metadata": {},
   "outputs": [],
   "source": [
    "arr2 = np.random.randint(0,9,(5,))"
   ]
  },
  {
   "cell_type": "code",
   "execution_count": 5,
   "id": "0da0328f-f7a5-42da-8f17-af3beb42aaa6",
   "metadata": {},
   "outputs": [],
   "source": [
    "arr3 = np.random.randint(0,9,(4,))"
   ]
  },
  {
   "cell_type": "code",
   "execution_count": 6,
   "id": "06371605-6836-4b0a-a34a-51e52362d131",
   "metadata": {},
   "outputs": [
    {
     "data": {
      "text/plain": [
       "array([6, 2, 1, 7, 0])"
      ]
     },
     "execution_count": 6,
     "metadata": {},
     "output_type": "execute_result"
    }
   ],
   "source": [
    "arr1"
   ]
  },
  {
   "cell_type": "code",
   "execution_count": 7,
   "id": "8cf2f05f-df6d-45a1-a0bb-2571067d0525",
   "metadata": {},
   "outputs": [
    {
     "data": {
      "text/plain": [
       "array([5, 8, 0, 7, 6])"
      ]
     },
     "execution_count": 7,
     "metadata": {},
     "output_type": "execute_result"
    }
   ],
   "source": [
    "arr2"
   ]
  },
  {
   "cell_type": "code",
   "execution_count": 8,
   "id": "f72784d3-1322-46f9-9219-60978f489ab9",
   "metadata": {},
   "outputs": [
    {
     "data": {
      "text/plain": [
       "array([0, 2, 4, 8])"
      ]
     },
     "execution_count": 8,
     "metadata": {},
     "output_type": "execute_result"
    }
   ],
   "source": [
    "arr3"
   ]
  },
  {
   "cell_type": "code",
   "execution_count": 9,
   "id": "dbd95ef2-628f-47e2-baf4-74a9350d2678",
   "metadata": {},
   "outputs": [
    {
     "data": {
      "text/plain": [
       "array([ True, False,  True, False, False])"
      ]
     },
     "execution_count": 9,
     "metadata": {},
     "output_type": "execute_result"
    }
   ],
   "source": [
    "arr1 > arr2"
   ]
  },
  {
   "cell_type": "code",
   "execution_count": 10,
   "id": "d6629594-d2d8-4185-aebd-ac83f4bc9dd5",
   "metadata": {},
   "outputs": [
    {
     "ename": "ValueError",
     "evalue": "operands could not be broadcast together with shapes (5,) (4,) ",
     "output_type": "error",
     "traceback": [
      "\u001b[1;31m---------------------------------------------------------------------------\u001b[0m",
      "\u001b[1;31mValueError\u001b[0m                                Traceback (most recent call last)",
      "Cell \u001b[1;32mIn[10], line 1\u001b[0m\n\u001b[1;32m----> 1\u001b[0m \u001b[43marr1\u001b[49m\u001b[43m \u001b[49m\u001b[38;5;241;43m>\u001b[39;49m\u001b[43m \u001b[49m\u001b[43marr3\u001b[49m\n",
      "\u001b[1;31mValueError\u001b[0m: operands could not be broadcast together with shapes (5,) (4,) "
     ]
    }
   ],
   "source": [
    "arr1 > arr3"
   ]
  },
  {
   "cell_type": "code",
   "execution_count": 13,
   "id": "1b49f11e-32d3-430a-b1ea-ee9f6a1091cc",
   "metadata": {},
   "outputs": [],
   "source": [
    "m1 = np.random.randint(0,9,(3,4))"
   ]
  },
  {
   "cell_type": "code",
   "execution_count": 16,
   "id": "ed2b8187-7b75-47e2-86b5-b19432ff64b7",
   "metadata": {},
   "outputs": [
    {
     "data": {
      "text/plain": [
       "array([[4, 2, 3, 8],\n",
       "       [4, 8, 4, 1],\n",
       "       [5, 1, 2, 5]])"
      ]
     },
     "execution_count": 16,
     "metadata": {},
     "output_type": "execute_result"
    }
   ],
   "source": [
    "m1"
   ]
  },
  {
   "cell_type": "code",
   "execution_count": 14,
   "id": "87b364f7-59bd-4384-903c-f91f120c8893",
   "metadata": {},
   "outputs": [],
   "source": [
    "m2 = np.random.randint(0,9,(3,4))"
   ]
  },
  {
   "cell_type": "code",
   "execution_count": 17,
   "id": "1ad69468-32a8-475b-b68b-206d7067ff36",
   "metadata": {},
   "outputs": [
    {
     "data": {
      "text/plain": [
       "array([[4, 6, 8, 3],\n",
       "       [8, 6, 3, 5],\n",
       "       [0, 0, 7, 3]])"
      ]
     },
     "execution_count": 17,
     "metadata": {},
     "output_type": "execute_result"
    }
   ],
   "source": [
    "m2"
   ]
  },
  {
   "cell_type": "code",
   "execution_count": 15,
   "id": "84a640f4-ee42-4537-bf74-8214c95b7172",
   "metadata": {},
   "outputs": [
    {
     "data": {
      "text/plain": [
       "array([[ 8,  8, 11, 11],\n",
       "       [12, 14,  7,  6],\n",
       "       [ 5,  1,  9,  8]])"
      ]
     },
     "execution_count": 15,
     "metadata": {},
     "output_type": "execute_result"
    }
   ],
   "source": [
    "m1 + m2"
   ]
  },
  {
   "cell_type": "code",
   "execution_count": 18,
   "id": "d966de4b-70a5-4688-b0e7-cfe6f8aa2f5f",
   "metadata": {},
   "outputs": [
    {
     "data": {
      "text/plain": [
       "array([[ 0, -4, -5,  5],\n",
       "       [-4,  2,  1, -4],\n",
       "       [ 5,  1, -5,  2]])"
      ]
     },
     "execution_count": 18,
     "metadata": {},
     "output_type": "execute_result"
    }
   ],
   "source": [
    "m1 - m2"
   ]
  },
  {
   "cell_type": "code",
   "execution_count": 19,
   "id": "754a56de-c074-4831-a40a-a3b0e5b2fc5d",
   "metadata": {},
   "outputs": [
    {
     "data": {
      "text/plain": [
       "array([[16, 12, 24, 24],\n",
       "       [32, 48, 12,  5],\n",
       "       [ 0,  0, 14, 15]])"
      ]
     },
     "execution_count": 19,
     "metadata": {},
     "output_type": "execute_result"
    }
   ],
   "source": [
    "m1 * m2"
   ]
  },
  {
   "cell_type": "code",
   "execution_count": 20,
   "id": "5bc89bb4-146c-46a0-9408-70d7811e7246",
   "metadata": {},
   "outputs": [
    {
     "name": "stderr",
     "output_type": "stream",
     "text": [
      "C:\\Users\\pc\\AppData\\Local\\Temp\\ipykernel_271596\\3394317643.py:1: RuntimeWarning: divide by zero encountered in divide\n",
      "  m1 / m2\n"
     ]
    },
    {
     "data": {
      "text/plain": [
       "array([[1.        , 0.33333333, 0.375     , 2.66666667],\n",
       "       [0.5       , 1.33333333, 1.33333333, 0.2       ],\n",
       "       [       inf,        inf, 0.28571429, 1.66666667]])"
      ]
     },
     "execution_count": 20,
     "metadata": {},
     "output_type": "execute_result"
    }
   ],
   "source": [
    "m1 / m2"
   ]
  },
  {
   "cell_type": "code",
   "execution_count": 22,
   "id": "2c254b2f-ff2e-4533-b252-113322e923f9",
   "metadata": {},
   "outputs": [],
   "source": [
    "# dot product"
   ]
  },
  {
   "cell_type": "code",
   "execution_count": 25,
   "id": "5b588729-e604-4236-b298-aef5b2606c22",
   "metadata": {},
   "outputs": [],
   "source": [
    "m1 = np.array([[3,1,1],\n",
    "              [2,1,1]])"
   ]
  },
  {
   "cell_type": "code",
   "execution_count": 26,
   "id": "c1e827d1-cd20-49f8-95d7-359141b6c8f6",
   "metadata": {},
   "outputs": [
    {
     "data": {
      "text/plain": [
       "array([[3, 1, 1],\n",
       "       [2, 1, 1]])"
      ]
     },
     "execution_count": 26,
     "metadata": {},
     "output_type": "execute_result"
    }
   ],
   "source": [
    "m1"
   ]
  },
  {
   "cell_type": "code",
   "execution_count": 27,
   "id": "7cda137a-530a-4455-a181-163163911b1c",
   "metadata": {},
   "outputs": [],
   "source": [
    "m2 = np.array([[2,1],\n",
    "              [3,0],\n",
    "              [2,4]])"
   ]
  },
  {
   "cell_type": "code",
   "execution_count": 28,
   "id": "758c78dc-971b-4852-bc0c-75f091a0792a",
   "metadata": {},
   "outputs": [
    {
     "data": {
      "text/plain": [
       "array([[2, 1],\n",
       "       [3, 0],\n",
       "       [2, 4]])"
      ]
     },
     "execution_count": 28,
     "metadata": {},
     "output_type": "execute_result"
    }
   ],
   "source": [
    "m2"
   ]
  },
  {
   "cell_type": "code",
   "execution_count": 29,
   "id": "cbbc0ae8-671b-4144-88c4-e9c9574a3246",
   "metadata": {},
   "outputs": [
    {
     "data": {
      "text/plain": [
       "array([[11,  7],\n",
       "       [ 9,  6]])"
      ]
     },
     "execution_count": 29,
     "metadata": {},
     "output_type": "execute_result"
    }
   ],
   "source": [
    "m1 @ m2"
   ]
  },
  {
   "cell_type": "code",
   "execution_count": 30,
   "id": "d8d4f1ce-01cc-4545-a092-d7ca98aa036b",
   "metadata": {},
   "outputs": [
    {
     "data": {
      "text/plain": [
       "array([6, 2, 1, 7, 0])"
      ]
     },
     "execution_count": 30,
     "metadata": {},
     "output_type": "execute_result"
    }
   ],
   "source": [
    "arr1"
   ]
  },
  {
   "cell_type": "code",
   "execution_count": 31,
   "id": "522a67fd-4e52-420d-8fdd-ffc673aff4f8",
   "metadata": {},
   "outputs": [
    {
     "data": {
      "text/plain": [
       "array([5, 8, 0, 7, 6])"
      ]
     },
     "execution_count": 31,
     "metadata": {},
     "output_type": "execute_result"
    }
   ],
   "source": [
    "arr2"
   ]
  },
  {
   "cell_type": "code",
   "execution_count": 32,
   "id": "5ed3510b-f851-492b-82a5-ac9cf2e13cf7",
   "metadata": {},
   "outputs": [
    {
     "data": {
      "text/plain": [
       "array([11, 10,  1, 14,  6])"
      ]
     },
     "execution_count": 32,
     "metadata": {},
     "output_type": "execute_result"
    }
   ],
   "source": [
    "np.add(arr1,arr2)"
   ]
  },
  {
   "cell_type": "code",
   "execution_count": 33,
   "id": "d113f346-51e1-4658-aaa1-d0d0b552bd05",
   "metadata": {},
   "outputs": [
    {
     "data": {
      "text/plain": [
       "array([11, 10,  1, 14,  6])"
      ]
     },
     "execution_count": 33,
     "metadata": {},
     "output_type": "execute_result"
    }
   ],
   "source": [
    "arr1 + arr2"
   ]
  },
  {
   "cell_type": "code",
   "execution_count": 34,
   "id": "3fcd256f-a814-4ac0-ad76-ecd42f13fb64",
   "metadata": {},
   "outputs": [
    {
     "data": {
      "text/plain": [
       "array([ 1, -6,  1,  0, -6])"
      ]
     },
     "execution_count": 34,
     "metadata": {},
     "output_type": "execute_result"
    }
   ],
   "source": [
    "arr1 - arr2"
   ]
  },
  {
   "cell_type": "code",
   "execution_count": 35,
   "id": "a14f4ab2-2746-4cbc-ba19-5911c1bd1162",
   "metadata": {},
   "outputs": [
    {
     "data": {
      "text/plain": [
       "array([ 1, -6,  1,  0, -6])"
      ]
     },
     "execution_count": 35,
     "metadata": {},
     "output_type": "execute_result"
    }
   ],
   "source": [
    "np.subtract(arr1,arr2)"
   ]
  },
  {
   "cell_type": "code",
   "execution_count": 37,
   "id": "cc2bb99a-468c-43df-a4b9-d49d85d42c55",
   "metadata": {},
   "outputs": [
    {
     "data": {
      "text/plain": [
       "array([30, 16,  0, 49,  0])"
      ]
     },
     "execution_count": 37,
     "metadata": {},
     "output_type": "execute_result"
    }
   ],
   "source": [
    "np.multiply(arr1,arr2)"
   ]
  },
  {
   "cell_type": "code",
   "execution_count": 38,
   "id": "f42c6962-ac08-442d-ab8e-6e8edd5a45ae",
   "metadata": {},
   "outputs": [
    {
     "data": {
      "text/plain": [
       "array([[3, 1, 1],\n",
       "       [2, 1, 1]])"
      ]
     },
     "execution_count": 38,
     "metadata": {},
     "output_type": "execute_result"
    }
   ],
   "source": [
    "m1"
   ]
  },
  {
   "cell_type": "code",
   "execution_count": 39,
   "id": "3fa34e84-3589-4ae4-8a43-1babe006aee3",
   "metadata": {},
   "outputs": [
    {
     "data": {
      "text/plain": [
       "array([[2, 1],\n",
       "       [3, 0],\n",
       "       [2, 4]])"
      ]
     },
     "execution_count": 39,
     "metadata": {},
     "output_type": "execute_result"
    }
   ],
   "source": [
    "m2"
   ]
  },
  {
   "cell_type": "code",
   "execution_count": 40,
   "id": "4e67c071-3906-4ef8-aec3-019ace93fba8",
   "metadata": {},
   "outputs": [
    {
     "data": {
      "text/plain": [
       "array([[11,  7],\n",
       "       [ 9,  6]])"
      ]
     },
     "execution_count": 40,
     "metadata": {},
     "output_type": "execute_result"
    }
   ],
   "source": [
    "np.dot(m1,m2)"
   ]
  },
  {
   "cell_type": "code",
   "execution_count": 41,
   "id": "d6b570bc-b723-423e-9b6b-1e38018505a0",
   "metadata": {},
   "outputs": [
    {
     "data": {
      "text/plain": [
       "array([[3, 1, 1],\n",
       "       [2, 1, 1]])"
      ]
     },
     "execution_count": 41,
     "metadata": {},
     "output_type": "execute_result"
    }
   ],
   "source": [
    "m1"
   ]
  },
  {
   "cell_type": "code",
   "execution_count": 42,
   "id": "612477a8-602b-4e7a-b8ae-230377957c16",
   "metadata": {},
   "outputs": [
    {
     "data": {
      "text/plain": [
       "1.5"
      ]
     },
     "execution_count": 42,
     "metadata": {},
     "output_type": "execute_result"
    }
   ],
   "source": [
    "np.mean(m1)"
   ]
  },
  {
   "cell_type": "code",
   "execution_count": 44,
   "id": "a0ba617a-2fa8-46ae-9679-24991a3c2a46",
   "metadata": {},
   "outputs": [
    {
     "data": {
      "text/plain": [
       "1.0"
      ]
     },
     "execution_count": 44,
     "metadata": {},
     "output_type": "execute_result"
    }
   ],
   "source": [
    "np.median(m1)"
   ]
  },
  {
   "cell_type": "code",
   "execution_count": 45,
   "id": "67dd1f68-0a53-4768-9953-66ac91dd8604",
   "metadata": {},
   "outputs": [
    {
     "data": {
      "text/plain": [
       "0.5833333333333334"
      ]
     },
     "execution_count": 45,
     "metadata": {},
     "output_type": "execute_result"
    }
   ],
   "source": [
    "np.var(m1)"
   ]
  },
  {
   "cell_type": "code",
   "execution_count": 46,
   "id": "8ed85f53-3d3e-4063-a6d7-82607627c07f",
   "metadata": {},
   "outputs": [
    {
     "data": {
      "text/plain": [
       "array([[3, 1, 1],\n",
       "       [2, 1, 1]])"
      ]
     },
     "execution_count": 46,
     "metadata": {},
     "output_type": "execute_result"
    }
   ],
   "source": [
    "m1"
   ]
  },
  {
   "cell_type": "code",
   "execution_count": 47,
   "id": "59257c8e-b26d-441f-afe8-14d4a545be01",
   "metadata": {},
   "outputs": [
    {
     "data": {
      "text/plain": [
       "array([[3, 2],\n",
       "       [1, 1],\n",
       "       [1, 1]])"
      ]
     },
     "execution_count": 47,
     "metadata": {},
     "output_type": "execute_result"
    }
   ],
   "source": [
    "np.transpose(m1)"
   ]
  },
  {
   "cell_type": "code",
   "execution_count": 48,
   "id": "260683f3-9bb5-43e6-befc-fae862bf9bbf",
   "metadata": {},
   "outputs": [
    {
     "data": {
      "text/plain": [
       "array([[3, 2],\n",
       "       [1, 1],\n",
       "       [1, 1]])"
      ]
     },
     "execution_count": 48,
     "metadata": {},
     "output_type": "execute_result"
    }
   ],
   "source": [
    "m1.T"
   ]
  },
  {
   "cell_type": "code",
   "execution_count": 49,
   "id": "2ba1ed62-cd1f-43cd-8907-20b0d125afd9",
   "metadata": {},
   "outputs": [
    {
     "data": {
      "text/plain": [
       "0.7637626158259734"
      ]
     },
     "execution_count": 49,
     "metadata": {},
     "output_type": "execute_result"
    }
   ],
   "source": [
    "np.std(m1)"
   ]
  },
  {
   "cell_type": "code",
   "execution_count": 50,
   "id": "b106d136-706e-467d-8735-7e55bbb1fb01",
   "metadata": {},
   "outputs": [],
   "source": [
    "# Indexing and slicing in arrays"
   ]
  },
  {
   "cell_type": "code",
   "execution_count": 51,
   "id": "be758729-c4f6-4b12-a453-13d29181e1dc",
   "metadata": {},
   "outputs": [
    {
     "data": {
      "text/plain": [
       "array([6, 2, 1, 7, 0])"
      ]
     },
     "execution_count": 51,
     "metadata": {},
     "output_type": "execute_result"
    }
   ],
   "source": [
    "arr1"
   ]
  },
  {
   "cell_type": "code",
   "execution_count": 52,
   "id": "9267b251-b111-4952-96d7-67f649d5a5b5",
   "metadata": {},
   "outputs": [],
   "source": [
    "a1 = np.random.randint(0,10,(10,))"
   ]
  },
  {
   "cell_type": "code",
   "execution_count": 53,
   "id": "cb99a528-1ea5-4581-a06e-44e0be6c9bfd",
   "metadata": {},
   "outputs": [
    {
     "data": {
      "text/plain": [
       "array([0, 5, 3, 8, 3, 7, 7, 4, 8, 6])"
      ]
     },
     "execution_count": 53,
     "metadata": {},
     "output_type": "execute_result"
    }
   ],
   "source": [
    "a1"
   ]
  },
  {
   "cell_type": "code",
   "execution_count": 54,
   "id": "b4fc589d-9947-4c73-b47b-3577f7b6f7a0",
   "metadata": {},
   "outputs": [
    {
     "data": {
      "text/plain": [
       "0"
      ]
     },
     "execution_count": 54,
     "metadata": {},
     "output_type": "execute_result"
    }
   ],
   "source": [
    "a1[0]"
   ]
  },
  {
   "cell_type": "code",
   "execution_count": 55,
   "id": "16e69270-751f-4d0d-a55c-e93d1476be21",
   "metadata": {},
   "outputs": [
    {
     "data": {
      "text/plain": [
       "6"
      ]
     },
     "execution_count": 55,
     "metadata": {},
     "output_type": "execute_result"
    }
   ],
   "source": [
    "a1[-1]"
   ]
  },
  {
   "cell_type": "code",
   "execution_count": 56,
   "id": "887c17fd-eb15-48b9-aa59-a7b991618457",
   "metadata": {},
   "outputs": [
    {
     "data": {
      "text/plain": [
       "array([3, 7, 7, 4])"
      ]
     },
     "execution_count": 56,
     "metadata": {},
     "output_type": "execute_result"
    }
   ],
   "source": [
    "a1[4:8:1]"
   ]
  },
  {
   "cell_type": "code",
   "execution_count": 57,
   "id": "d8ce84c1-54d2-48b1-a171-238304de3785",
   "metadata": {},
   "outputs": [
    {
     "data": {
      "text/plain": [
       "array([6, 8, 4, 7, 7, 3, 8, 3, 5, 0])"
      ]
     },
     "execution_count": 57,
     "metadata": {},
     "output_type": "execute_result"
    }
   ],
   "source": [
    "a1[::-1]"
   ]
  },
  {
   "cell_type": "code",
   "execution_count": 58,
   "id": "05c771df-5206-4a05-877f-336176f036f8",
   "metadata": {},
   "outputs": [],
   "source": [
    "a1[0] = 20"
   ]
  },
  {
   "cell_type": "code",
   "execution_count": 59,
   "id": "b72b514c-b480-44b1-802e-15d44ea7bb4d",
   "metadata": {},
   "outputs": [
    {
     "data": {
      "text/plain": [
       "array([20,  5,  3,  8,  3,  7,  7,  4,  8,  6])"
      ]
     },
     "execution_count": 59,
     "metadata": {},
     "output_type": "execute_result"
    }
   ],
   "source": [
    "a1"
   ]
  },
  {
   "cell_type": "code",
   "execution_count": 60,
   "id": "cc6958ed-68b6-4ced-9c48-9e12e6aa0493",
   "metadata": {},
   "outputs": [
    {
     "data": {
      "text/plain": [
       "array([8, 3, 7])"
      ]
     },
     "execution_count": 60,
     "metadata": {},
     "output_type": "execute_result"
    }
   ],
   "source": [
    "a1[3:6]"
   ]
  },
  {
   "cell_type": "code",
   "execution_count": 61,
   "id": "3d2252f4-7193-41eb-9074-62d6ffd3a073",
   "metadata": {},
   "outputs": [],
   "source": [
    "a1[3:6] = 10"
   ]
  },
  {
   "cell_type": "code",
   "execution_count": 62,
   "id": "c2b79e4a-ddc6-4d37-9af4-3d34f8679200",
   "metadata": {},
   "outputs": [
    {
     "data": {
      "text/plain": [
       "array([20,  5,  3, 10, 10, 10,  7,  4,  8,  6])"
      ]
     },
     "execution_count": 62,
     "metadata": {},
     "output_type": "execute_result"
    }
   ],
   "source": [
    "a1"
   ]
  },
  {
   "cell_type": "code",
   "execution_count": 63,
   "id": "79c57e73-4c1b-495d-b693-651ab4dd2b05",
   "metadata": {},
   "outputs": [],
   "source": [
    "a1[3:6] = [1,2,3]"
   ]
  },
  {
   "cell_type": "code",
   "execution_count": 64,
   "id": "c88dcc46-9840-40b6-9ca3-873b490ce158",
   "metadata": {},
   "outputs": [
    {
     "data": {
      "text/plain": [
       "array([20,  5,  3,  1,  2,  3,  7,  4,  8,  6])"
      ]
     },
     "execution_count": 64,
     "metadata": {},
     "output_type": "execute_result"
    }
   ],
   "source": [
    "a1"
   ]
  },
  {
   "cell_type": "code",
   "execution_count": 66,
   "id": "2b5f89df-073c-451c-81b7-fa19ca763f5c",
   "metadata": {},
   "outputs": [
    {
     "ename": "ValueError",
     "evalue": "could not broadcast input array from shape (4,) into shape (3,)",
     "output_type": "error",
     "traceback": [
      "\u001b[1;31m---------------------------------------------------------------------------\u001b[0m",
      "\u001b[1;31mValueError\u001b[0m                                Traceback (most recent call last)",
      "Cell \u001b[1;32mIn[66], line 1\u001b[0m\n\u001b[1;32m----> 1\u001b[0m \u001b[43ma1\u001b[49m\u001b[43m[\u001b[49m\u001b[38;5;241;43m3\u001b[39;49m\u001b[43m:\u001b[49m\u001b[38;5;241;43m6\u001b[39;49m\u001b[43m]\u001b[49m \u001b[38;5;241m=\u001b[39m [\u001b[38;5;241m1\u001b[39m,\u001b[38;5;241m2\u001b[39m,\u001b[38;5;241m3\u001b[39m,\u001b[38;5;241m4\u001b[39m]\n",
      "\u001b[1;31mValueError\u001b[0m: could not broadcast input array from shape (4,) into shape (3,)"
     ]
    }
   ],
   "source": [
    "a1[3:6] = [1,2,3,4]"
   ]
  },
  {
   "cell_type": "code",
   "execution_count": 67,
   "id": "6498c986-46fc-41db-83d7-d3906fd8bc84",
   "metadata": {},
   "outputs": [
    {
     "ename": "ValueError",
     "evalue": "could not broadcast input array from shape (2,) into shape (3,)",
     "output_type": "error",
     "traceback": [
      "\u001b[1;31m---------------------------------------------------------------------------\u001b[0m",
      "\u001b[1;31mValueError\u001b[0m                                Traceback (most recent call last)",
      "Cell \u001b[1;32mIn[67], line 1\u001b[0m\n\u001b[1;32m----> 1\u001b[0m \u001b[43ma1\u001b[49m\u001b[43m[\u001b[49m\u001b[38;5;241;43m3\u001b[39;49m\u001b[43m:\u001b[49m\u001b[38;5;241;43m6\u001b[39;49m\u001b[43m]\u001b[49m \u001b[38;5;241m=\u001b[39m [\u001b[38;5;241m10\u001b[39m,\u001b[38;5;241m20\u001b[39m]\n",
      "\u001b[1;31mValueError\u001b[0m: could not broadcast input array from shape (2,) into shape (3,)"
     ]
    }
   ],
   "source": [
    "a1[3:6] = [10,20]"
   ]
  },
  {
   "cell_type": "code",
   "execution_count": 68,
   "id": "542483ca-6ae4-495c-9432-0ddc5e6278d3",
   "metadata": {},
   "outputs": [],
   "source": [
    "# view"
   ]
  },
  {
   "cell_type": "code",
   "execution_count": 69,
   "id": "33b7613f-71e8-4d1f-90bc-e33969a8acaa",
   "metadata": {},
   "outputs": [
    {
     "data": {
      "text/plain": [
       "array([20,  5,  3,  1,  2,  3,  7,  4,  8,  6])"
      ]
     },
     "execution_count": 69,
     "metadata": {},
     "output_type": "execute_result"
    }
   ],
   "source": [
    "a1"
   ]
  },
  {
   "cell_type": "code",
   "execution_count": 70,
   "id": "62b5db1c-ccfc-4c33-b802-61aa13543a72",
   "metadata": {},
   "outputs": [],
   "source": [
    "slice1 = a1[3:6]"
   ]
  },
  {
   "cell_type": "code",
   "execution_count": 71,
   "id": "c58e32e4-daf8-487f-9b58-3e79c149ea40",
   "metadata": {},
   "outputs": [
    {
     "data": {
      "text/plain": [
       "array([1, 2, 3])"
      ]
     },
     "execution_count": 71,
     "metadata": {},
     "output_type": "execute_result"
    }
   ],
   "source": [
    "slice1"
   ]
  },
  {
   "cell_type": "code",
   "execution_count": 72,
   "id": "bb1d16b2-d6c5-4f5d-a589-46bc4378098d",
   "metadata": {},
   "outputs": [
    {
     "data": {
      "text/plain": [
       "1"
      ]
     },
     "execution_count": 72,
     "metadata": {},
     "output_type": "execute_result"
    }
   ],
   "source": [
    "slice1[0]"
   ]
  },
  {
   "cell_type": "code",
   "execution_count": 73,
   "id": "2c3aac75-5733-4338-9e5b-3644130b04bd",
   "metadata": {},
   "outputs": [],
   "source": [
    "slice1[0] =-5"
   ]
  },
  {
   "cell_type": "code",
   "execution_count": 74,
   "id": "e7cec5b3-1990-4d4c-b77b-e834027cd1fd",
   "metadata": {},
   "outputs": [
    {
     "data": {
      "text/plain": [
       "array([-5,  2,  3])"
      ]
     },
     "execution_count": 74,
     "metadata": {},
     "output_type": "execute_result"
    }
   ],
   "source": [
    "slice1"
   ]
  },
  {
   "cell_type": "code",
   "execution_count": 75,
   "id": "0bfd8f35-584b-4696-a879-a6ae3c7d6b3a",
   "metadata": {},
   "outputs": [
    {
     "data": {
      "text/plain": [
       "array([20,  5,  3, -5,  2,  3,  7,  4,  8,  6])"
      ]
     },
     "execution_count": 75,
     "metadata": {},
     "output_type": "execute_result"
    }
   ],
   "source": [
    "a1"
   ]
  },
  {
   "cell_type": "code",
   "execution_count": 76,
   "id": "238ec247-16fd-4445-b8e0-e6972d8fd9ce",
   "metadata": {},
   "outputs": [],
   "source": [
    "l1 = [1,2,3,4,5,6]"
   ]
  },
  {
   "cell_type": "code",
   "execution_count": 79,
   "id": "94632590-3aa0-4a3f-bc88-a5506f5cb6f3",
   "metadata": {},
   "outputs": [],
   "source": [
    "slice2 = l1[2:4]"
   ]
  },
  {
   "cell_type": "code",
   "execution_count": 80,
   "id": "549c5f0c-6a80-4a27-b5aa-565cff9db5f0",
   "metadata": {},
   "outputs": [
    {
     "data": {
      "text/plain": [
       "[3, 4]"
      ]
     },
     "execution_count": 80,
     "metadata": {},
     "output_type": "execute_result"
    }
   ],
   "source": [
    "slice2"
   ]
  },
  {
   "cell_type": "code",
   "execution_count": 81,
   "id": "6960e7ae-f5ea-44c2-9e18-5273b97c722f",
   "metadata": {},
   "outputs": [],
   "source": [
    "slice2[0] = 100"
   ]
  },
  {
   "cell_type": "code",
   "execution_count": 82,
   "id": "db546c25-1164-402e-b790-8a059b477017",
   "metadata": {},
   "outputs": [
    {
     "data": {
      "text/plain": [
       "[100, 4]"
      ]
     },
     "execution_count": 82,
     "metadata": {},
     "output_type": "execute_result"
    }
   ],
   "source": [
    "slice2"
   ]
  },
  {
   "cell_type": "code",
   "execution_count": 84,
   "id": "ef332af2-e3ca-47cb-bc76-250bc8c2d634",
   "metadata": {},
   "outputs": [
    {
     "data": {
      "text/plain": [
       "[1, 2, 3, 4, 5, 6]"
      ]
     },
     "execution_count": 84,
     "metadata": {},
     "output_type": "execute_result"
    }
   ],
   "source": [
    "l1"
   ]
  },
  {
   "cell_type": "code",
   "execution_count": null,
   "id": "ba974001-4330-47a8-bd99-a20401755e57",
   "metadata": {},
   "outputs": [],
   "source": []
  }
 ],
 "metadata": {
  "kernelspec": {
   "display_name": "Python 3 (ipykernel)",
   "language": "python",
   "name": "python3"
  },
  "language_info": {
   "codemirror_mode": {
    "name": "ipython",
    "version": 3
   },
   "file_extension": ".py",
   "mimetype": "text/x-python",
   "name": "python",
   "nbconvert_exporter": "python",
   "pygments_lexer": "ipython3",
   "version": "3.12.3"
  }
 },
 "nbformat": 4,
 "nbformat_minor": 5
}
