{
 "cells": [
  {
   "cell_type": "markdown",
   "id": "c3c8ceb1",
   "metadata": {},
   "source": [
    "###Internal working of Python\n",
    "\n",
    "Python program is written in .py file\n",
    "ipynb file we cannot run\n",
    "\n",
    "Source Code .py compiled by compiler (python virtual machine) to Byte Code .pyc\n",
    "\n",
    "then .pyc converted to machine understandable code by interpreter (python virtual machine)\n",
    "\n",
    "then executed and shows output\n"
   ]
  },
  {
   "cell_type": "markdown",
   "id": "d8ad3dd4",
   "metadata": {},
   "source": []
  }
 ],
 "metadata": {
  "kernelspec": {
   "display_name": "Python 3 (ipykernel)",
   "language": "python",
   "name": "python3"
  },
  "language_info": {
   "codemirror_mode": {
    "name": "ipython",
    "version": 3
   },
   "file_extension": ".py",
   "mimetype": "text/x-python",
   "name": "python",
   "nbconvert_exporter": "python",
   "pygments_lexer": "ipython3",
   "version": "3.10.5"
  }
 },
 "nbformat": 4,
 "nbformat_minor": 5
}
