{
 "cells": [
  {
   "cell_type": "code",
   "execution_count": 1,
   "id": "9d68147b",
   "metadata": {},
   "outputs": [
    {
     "name": "stdout",
     "output_type": "stream",
     "text": [
      "10 20 30\n"
     ]
    }
   ],
   "source": [
    "print(10,20,30)"
   ]
  },
  {
   "cell_type": "code",
   "execution_count": 3,
   "id": "572baf4b",
   "metadata": {},
   "outputs": [
    {
     "name": "stdout",
     "output_type": "stream",
     "text": [
      "10&20&30\n"
     ]
    }
   ],
   "source": [
    "print(10,20,30,sep=\"&\")"
   ]
  },
  {
   "cell_type": "code",
   "execution_count": 4,
   "id": "d9e9e843",
   "metadata": {},
   "outputs": [
    {
     "name": "stdout",
     "output_type": "stream",
     "text": [
      "10&20&30\n",
      "Hello\n"
     ]
    }
   ],
   "source": [
    "print(10,20,30,sep=\"&\")\n",
    "print(\"Hello\")"
   ]
  },
  {
   "cell_type": "code",
   "execution_count": 5,
   "id": "eca6742c",
   "metadata": {},
   "outputs": [
    {
     "name": "stdout",
     "output_type": "stream",
     "text": [
      "10&20&30@Hello\n"
     ]
    }
   ],
   "source": [
    "print(10,20,30,sep=\"&\",end=\"@\")\n",
    "print(\"Hello\")"
   ]
  },
  {
   "cell_type": "code",
   "execution_count": 6,
   "id": "269281aa",
   "metadata": {},
   "outputs": [
    {
     "name": "stdout",
     "output_type": "stream",
     "text": [
      "Help on built-in function print in module builtins:\n",
      "\n",
      "print(...)\n",
      "    print(value, ..., sep=' ', end='\\n', file=sys.stdout, flush=False)\n",
      "    \n",
      "    Prints the values to a stream, or to sys.stdout by default.\n",
      "    Optional keyword arguments:\n",
      "    file:  a file-like object (stream); defaults to the current sys.stdout.\n",
      "    sep:   string inserted between values, default a space.\n",
      "    end:   string appended after the last value, default a newline.\n",
      "    flush: whether to forcibly flush the stream.\n",
      "\n"
     ]
    }
   ],
   "source": [
    "help(print)"
   ]
  },
  {
   "cell_type": "code",
   "execution_count": 13,
   "id": "c88ce096",
   "metadata": {},
   "outputs": [
    {
     "name": "stdout",
     "output_type": "stream",
     "text": [
      "Help on built-in function id in module builtins:\n",
      "\n",
      "id(obj, /)\n",
      "    Return the identity of an object.\n",
      "    \n",
      "    This is guaranteed to be unique among simultaneously existing objects.\n",
      "    (CPython uses the object's memory address.)\n",
      "\n"
     ]
    }
   ],
   "source": [
    "help(id)"
   ]
  },
  {
   "cell_type": "code",
   "execution_count": 8,
   "id": "7e969d7f",
   "metadata": {},
   "outputs": [],
   "source": [
    "# String Formatting\n",
    "# f string"
   ]
  },
  {
   "cell_type": "code",
   "execution_count": 11,
   "id": "0a26eb2f",
   "metadata": {},
   "outputs": [
    {
     "name": "stdout",
     "output_type": "stream",
     "text": [
      "-2 is negative\n"
     ]
    }
   ],
   "source": [
    "num = -2\n",
    "print(f\"{num} is negative\")"
   ]
  },
  {
   "cell_type": "code",
   "execution_count": 12,
   "id": "c1ca7c0b",
   "metadata": {},
   "outputs": [
    {
     "name": "stdout",
     "output_type": "stream",
     "text": [
      "{num} is negative\n"
     ]
    }
   ],
   "source": [
    "print(\"{num} is negative\")"
   ]
  },
  {
   "cell_type": "code",
   "execution_count": 16,
   "id": "8c989d90",
   "metadata": {},
   "outputs": [
    {
     "name": "stdout",
     "output_type": "stream",
     "text": [
      "enter a number: 0\n",
      "0 is zero\n"
     ]
    }
   ],
   "source": [
    "num = int(input(\"enter a number: \"))\n",
    "if num < 0:\n",
    "    print(f\"{num} is negative\")\n",
    "elif num == 0:\n",
    "    print(f\"{num} is zero\")\n",
    "else:\n",
    "    print(f\"{num} is positive\")\n",
    "    "
   ]
  },
  {
   "cell_type": "code",
   "execution_count": 17,
   "id": "d1fbf05b",
   "metadata": {},
   "outputs": [
    {
     "name": "stdout",
     "output_type": "stream",
     "text": [
      "Hello Aniruddha\n"
     ]
    }
   ],
   "source": [
    "print(\"Hello\", \"Aniruddha\")"
   ]
  },
  {
   "cell_type": "code",
   "execution_count": 18,
   "id": "f163b565",
   "metadata": {},
   "outputs": [],
   "source": [
    "# WAP to take 2 inputs"
   ]
  },
  {
   "cell_type": "code",
   "execution_count": 21,
   "id": "068fc0d7",
   "metadata": {},
   "outputs": [
    {
     "name": "stdout",
     "output_type": "stream",
     "text": [
      "enter your name: Madhav\n",
      "enter age: 67\n",
      "Hello Madhav. You are a seniour citizen.\n"
     ]
    }
   ],
   "source": [
    "name = input(\"enter your name: \")\n",
    "age = int(input(\"enter age: \"))\n",
    "\n",
    "if age >= 60:\n",
    "    print(f\"Hello {name}. You are a seniour citizen.\")\n",
    "else:\n",
    "    print(f\"Hello {name}. You are not a seniour citizen.\")"
   ]
  },
  {
   "cell_type": "code",
   "execution_count": 24,
   "id": "6bbb184d",
   "metadata": {},
   "outputs": [
    {
     "name": "stdout",
     "output_type": "stream",
     "text": [
      "enter your name: Madhav\n",
      "enter age: 55\n",
      "enter bill amount: 100\n",
      "Hello Madhav. You are not a seniour citizen.\n",
      "your final dicounted bill is 95.0\n"
     ]
    }
   ],
   "source": [
    "name = input(\"enter your name: \")\n",
    "age = int(input(\"enter age: \"))\n",
    "bill = float(input(\"enter bill amount: \"))\n",
    "\n",
    "if age >= 60:\n",
    "    print(f\"Hello {name}. You are a seniour citizen.\")\n",
    "    print(f\"your final dicounted bill is {bill*0.9}\")\n",
    "else:\n",
    "    print(f\"Hello {name}. You are not a seniour citizen.\")\n",
    "    print(f\"your final dicounted bill is {bill*0.95}\")"
   ]
  },
  {
   "cell_type": "code",
   "execution_count": 25,
   "id": "6550de6a",
   "metadata": {},
   "outputs": [],
   "source": [
    "# Nested if"
   ]
  },
  {
   "cell_type": "code",
   "execution_count": 26,
   "id": "3263c000",
   "metadata": {},
   "outputs": [
    {
     "name": "stdout",
     "output_type": "stream",
     "text": [
      "enter a number: -5\n",
      "-5 is negative\n"
     ]
    }
   ],
   "source": [
    "num = int(input(\"enter a number: \"))\n",
    "if num < 0:\n",
    "    print(f\"{num} is negative\")\n",
    "elif num == 0:\n",
    "    print(f\"{num} is zero\")\n",
    "else:\n",
    "    print(f\"{num} is positive\")\n",
    "    if num % 2 == 0:\n",
    "        print(f\"{num} is even\")\n",
    "    else:\n",
    "        print(f\"{num} is odd\")"
   ]
  },
  {
   "cell_type": "code",
   "execution_count": 27,
   "id": "4b681187",
   "metadata": {},
   "outputs": [
    {
     "name": "stdout",
     "output_type": "stream",
     "text": [
      "enter a number: 9\n",
      "9 is positive\n",
      "9 is odd\n"
     ]
    }
   ],
   "source": [
    "num = int(input(\"enter a number: \"))\n",
    "if num < 0:\n",
    "    print(f\"{num} is negative\")\n",
    "elif num == 0:\n",
    "    print(f\"{num} is zero\")\n",
    "else:\n",
    "    print(f\"{num} is positive\")\n",
    "    if num % 2 == 0:\n",
    "        print(f\"{num} is even\")\n",
    "    else:\n",
    "        print(f\"{num} is odd\")"
   ]
  },
  {
   "cell_type": "code",
   "execution_count": 28,
   "id": "9fb317b9",
   "metadata": {},
   "outputs": [
    {
     "name": "stdout",
     "output_type": "stream",
     "text": [
      "enter a number: 8\n",
      "8 is positive\n",
      "8 is even\n"
     ]
    }
   ],
   "source": [
    "num = int(input(\"enter a number: \"))\n",
    "if num < 0:\n",
    "    print(f\"{num} is negative\")\n",
    "elif num == 0:\n",
    "    print(f\"{num} is zero\")\n",
    "else:\n",
    "    print(f\"{num} is positive\")\n",
    "    if num % 2 == 0:\n",
    "        print(f\"{num} is even\")\n",
    "    else:\n",
    "        print(f\"{num} is odd\")"
   ]
  },
  {
   "cell_type": "code",
   "execution_count": 29,
   "id": "1649fdea",
   "metadata": {},
   "outputs": [
    {
     "name": "stdout",
     "output_type": "stream",
     "text": [
      "enter a number: -4\n",
      "-4 is negative\n",
      "-4 is equal or greater than -5\n"
     ]
    }
   ],
   "source": [
    "num = int(input(\"enter a number: \"))\n",
    "if num < 0:\n",
    "    print(f\"{num} is negative\")\n",
    "    if num < -5:\n",
    "        print(f\"{num} is less than -5\")\n",
    "    else:\n",
    "        print(f\"{num} is equal or greater than -5\")    \n",
    "elif num == 0:\n",
    "    print(f\"{num} is zero\")\n",
    "else:\n",
    "    print(f\"{num} is positive\")\n",
    "    if num % 2 == 0:\n",
    "        print(f\"{num} is even\")\n",
    "    else:\n",
    "        print(f\"{num} is odd\")"
   ]
  },
  {
   "cell_type": "code",
   "execution_count": 30,
   "id": "a940cfe2",
   "metadata": {},
   "outputs": [
    {
     "name": "stdout",
     "output_type": "stream",
     "text": [
      "enter a number: -5\n",
      "-5 is negative\n",
      "-5 is equal or greater than -5\n"
     ]
    }
   ],
   "source": [
    "num = int(input(\"enter a number: \"))\n",
    "if num < 0:\n",
    "    print(f\"{num} is negative\")\n",
    "    if num < -5:\n",
    "        print(f\"{num} is less than -5\")\n",
    "    else:\n",
    "        print(f\"{num} is equal or greater than -5\")    \n",
    "elif num == 0:\n",
    "    print(f\"{num} is zero\")\n",
    "else:\n",
    "    print(f\"{num} is positive\")\n",
    "    if num % 2 == 0:\n",
    "        print(f\"{num} is even\")\n",
    "    else:\n",
    "        print(f\"{num} is odd\")"
   ]
  },
  {
   "cell_type": "code",
   "execution_count": 31,
   "id": "3c11a74a",
   "metadata": {},
   "outputs": [
    {
     "name": "stdout",
     "output_type": "stream",
     "text": [
      "enter a number: -7\n",
      "-7 is negative\n",
      "-7 is less than -5\n"
     ]
    }
   ],
   "source": [
    "num = int(input(\"enter a number: \"))\n",
    "if num < 0:\n",
    "    print(f\"{num} is negative\")\n",
    "    if num < -5:\n",
    "        print(f\"{num} is less than -5\")\n",
    "    else:\n",
    "        print(f\"{num} is equal or greater than -5\")    \n",
    "elif num == 0:\n",
    "    print(f\"{num} is zero\")\n",
    "else:\n",
    "    print(f\"{num} is positive\")\n",
    "    if num % 2 == 0:\n",
    "        print(f\"{num} is even\")\n",
    "    else:\n",
    "        print(f\"{num} is odd\")"
   ]
  },
  {
   "cell_type": "code",
   "execution_count": null,
   "id": "893b1680",
   "metadata": {},
   "outputs": [],
   "source": []
  }
 ],
 "metadata": {
  "kernelspec": {
   "display_name": "Python 3 (ipykernel)",
   "language": "python",
   "name": "python3"
  },
  "language_info": {
   "codemirror_mode": {
    "name": "ipython",
    "version": 3
   },
   "file_extension": ".py",
   "mimetype": "text/x-python",
   "name": "python",
   "nbconvert_exporter": "python",
   "pygments_lexer": "ipython3",
   "version": "3.10.5"
  }
 },
 "nbformat": 4,
 "nbformat_minor": 5
}
