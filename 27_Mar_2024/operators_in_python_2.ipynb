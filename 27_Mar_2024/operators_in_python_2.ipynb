{
 "cells": [
  {
   "cell_type": "code",
   "execution_count": 3,
   "id": "c88a8f8d",
   "metadata": {},
   "outputs": [],
   "source": [
    "# Comparison Operators\n",
    "# >, <, >=, <=, ==, !=\n",
    "# used yo compare two operands and return a boolean"
   ]
  },
  {
   "cell_type": "code",
   "execution_count": 4,
   "id": "8a9a4335",
   "metadata": {},
   "outputs": [
    {
     "data": {
      "text/plain": [
       "False"
      ]
     },
     "execution_count": 4,
     "metadata": {},
     "output_type": "execute_result"
    }
   ],
   "source": [
    "10 > 80"
   ]
  },
  {
   "cell_type": "code",
   "execution_count": 5,
   "id": "270ac604",
   "metadata": {},
   "outputs": [
    {
     "data": {
      "text/plain": [
       "True"
      ]
     },
     "execution_count": 5,
     "metadata": {},
     "output_type": "execute_result"
    }
   ],
   "source": [
    "100 > 9"
   ]
  },
  {
   "cell_type": "code",
   "execution_count": 6,
   "id": "30c310cd",
   "metadata": {},
   "outputs": [
    {
     "data": {
      "text/plain": [
       "True"
      ]
     },
     "execution_count": 6,
     "metadata": {},
     "output_type": "execute_result"
    }
   ],
   "source": [
    "100 == 100"
   ]
  },
  {
   "cell_type": "code",
   "execution_count": 7,
   "id": "4787c9e9",
   "metadata": {},
   "outputs": [
    {
     "data": {
      "text/plain": [
       "True"
      ]
     },
     "execution_count": 7,
     "metadata": {},
     "output_type": "execute_result"
    }
   ],
   "source": [
    "100 <= 100"
   ]
  },
  {
   "cell_type": "code",
   "execution_count": 8,
   "id": "a6f93cb9",
   "metadata": {},
   "outputs": [
    {
     "data": {
      "text/plain": [
       "False"
      ]
     },
     "execution_count": 8,
     "metadata": {},
     "output_type": "execute_result"
    }
   ],
   "source": [
    "100 == '100'"
   ]
  },
  {
   "cell_type": "code",
   "execution_count": 9,
   "id": "5f246cfc",
   "metadata": {},
   "outputs": [
    {
     "data": {
      "text/plain": [
       "True"
      ]
     },
     "execution_count": 9,
     "metadata": {},
     "output_type": "execute_result"
    }
   ],
   "source": [
    "100 == 100.0"
   ]
  },
  {
   "cell_type": "code",
   "execution_count": 10,
   "id": "108f90e0",
   "metadata": {},
   "outputs": [
    {
     "data": {
      "text/plain": [
       "False"
      ]
     },
     "execution_count": 10,
     "metadata": {},
     "output_type": "execute_result"
    }
   ],
   "source": [
    "'Python' == 'python'"
   ]
  },
  {
   "cell_type": "code",
   "execution_count": 11,
   "id": "db148d3c",
   "metadata": {},
   "outputs": [],
   "source": [
    "list_1 = [1,2,3]\n",
    "list_2 = [100, 200, 300]"
   ]
  },
  {
   "cell_type": "code",
   "execution_count": 13,
   "id": "e123974b",
   "metadata": {},
   "outputs": [
    {
     "data": {
      "text/plain": [
       "False"
      ]
     },
     "execution_count": 13,
     "metadata": {},
     "output_type": "execute_result"
    }
   ],
   "source": [
    "list_1 == list_2"
   ]
  },
  {
   "cell_type": "code",
   "execution_count": 14,
   "id": "e63f4275",
   "metadata": {},
   "outputs": [
    {
     "data": {
      "text/plain": [
       "False"
      ]
     },
     "execution_count": 14,
     "metadata": {},
     "output_type": "execute_result"
    }
   ],
   "source": [
    "100 != 100"
   ]
  },
  {
   "cell_type": "code",
   "execution_count": 17,
   "id": "05753125",
   "metadata": {},
   "outputs": [
    {
     "data": {
      "text/plain": [
       "True"
      ]
     },
     "execution_count": 17,
     "metadata": {},
     "output_type": "execute_result"
    }
   ],
   "source": [
    "\"Python\" != 'python'"
   ]
  },
  {
   "cell_type": "code",
   "execution_count": 18,
   "id": "883d6f3e",
   "metadata": {},
   "outputs": [],
   "source": [
    "# Logical Operators\n",
    "#  and, or, not"
   ]
  },
  {
   "cell_type": "code",
   "execution_count": 23,
   "id": "9cc9bec4",
   "metadata": {},
   "outputs": [
    {
     "data": {
      "text/plain": [
       "True"
      ]
     },
     "execution_count": 23,
     "metadata": {},
     "output_type": "execute_result"
    }
   ],
   "source": [
    "100>0 and 10>3"
   ]
  },
  {
   "cell_type": "code",
   "execution_count": 19,
   "id": "c2032537",
   "metadata": {},
   "outputs": [
    {
     "data": {
      "text/plain": [
       "20"
      ]
     },
     "execution_count": 19,
     "metadata": {},
     "output_type": "execute_result"
    }
   ],
   "source": [
    "100 and 20"
   ]
  },
  {
   "cell_type": "code",
   "execution_count": 20,
   "id": "d42a9785",
   "metadata": {},
   "outputs": [
    {
     "data": {
      "text/plain": [
       "0"
      ]
     },
     "execution_count": 20,
     "metadata": {},
     "output_type": "execute_result"
    }
   ],
   "source": [
    "0 and 20"
   ]
  },
  {
   "cell_type": "code",
   "execution_count": 24,
   "id": "c29826c5",
   "metadata": {},
   "outputs": [],
   "source": [
    "# Empty string is False\n"
   ]
  },
  {
   "cell_type": "code",
   "execution_count": 26,
   "id": "578a4751",
   "metadata": {},
   "outputs": [
    {
     "data": {
      "text/plain": [
       "''"
      ]
     },
     "execution_count": 26,
     "metadata": {},
     "output_type": "execute_result"
    }
   ],
   "source": [
    "'' and 4"
   ]
  },
  {
   "cell_type": "code",
   "execution_count": 27,
   "id": "3cc4cd7e",
   "metadata": {},
   "outputs": [
    {
     "data": {
      "text/plain": [
       "''"
      ]
     },
     "execution_count": 27,
     "metadata": {},
     "output_type": "execute_result"
    }
   ],
   "source": [
    "4 and ''"
   ]
  },
  {
   "cell_type": "code",
   "execution_count": 28,
   "id": "55bcfbcf",
   "metadata": {},
   "outputs": [],
   "source": [
    "l1 = []"
   ]
  },
  {
   "cell_type": "code",
   "execution_count": 29,
   "id": "d099cc55",
   "metadata": {},
   "outputs": [],
   "source": [
    "# Empty list is cosidered as False"
   ]
  },
  {
   "cell_type": "code",
   "execution_count": 30,
   "id": "83fb2942",
   "metadata": {},
   "outputs": [
    {
     "data": {
      "text/plain": [
       "False"
      ]
     },
     "execution_count": 30,
     "metadata": {},
     "output_type": "execute_result"
    }
   ],
   "source": [
    "bool(l1)"
   ]
  },
  {
   "cell_type": "code",
   "execution_count": 31,
   "id": "e023b303",
   "metadata": {},
   "outputs": [
    {
     "data": {
      "text/plain": [
       "[]"
      ]
     },
     "execution_count": 31,
     "metadata": {},
     "output_type": "execute_result"
    }
   ],
   "source": [
    "[] and 1"
   ]
  },
  {
   "cell_type": "code",
   "execution_count": 32,
   "id": "68c479a0",
   "metadata": {},
   "outputs": [
    {
     "data": {
      "text/plain": [
       "1"
      ]
     },
     "execution_count": 32,
     "metadata": {},
     "output_type": "execute_result"
    }
   ],
   "source": [
    "1 or 0"
   ]
  },
  {
   "cell_type": "code",
   "execution_count": 33,
   "id": "dcc20d90",
   "metadata": {},
   "outputs": [
    {
     "data": {
      "text/plain": [
       "100"
      ]
     },
     "execution_count": 33,
     "metadata": {},
     "output_type": "execute_result"
    }
   ],
   "source": [
    "100 or 0"
   ]
  },
  {
   "cell_type": "code",
   "execution_count": 34,
   "id": "45dc6114",
   "metadata": {},
   "outputs": [
    {
     "data": {
      "text/plain": [
       "100"
      ]
     },
     "execution_count": 34,
     "metadata": {},
     "output_type": "execute_result"
    }
   ],
   "source": [
    "0 or 100"
   ]
  },
  {
   "cell_type": "code",
   "execution_count": 35,
   "id": "78a31676",
   "metadata": {},
   "outputs": [
    {
     "data": {
      "text/plain": [
       "1"
      ]
     },
     "execution_count": 35,
     "metadata": {},
     "output_type": "execute_result"
    }
   ],
   "source": [
    "[] or 1"
   ]
  },
  {
   "cell_type": "code",
   "execution_count": 36,
   "id": "df846b1f",
   "metadata": {},
   "outputs": [
    {
     "data": {
      "text/plain": [
       "''"
      ]
     },
     "execution_count": 36,
     "metadata": {},
     "output_type": "execute_result"
    }
   ],
   "source": [
    "[] or \"\""
   ]
  },
  {
   "cell_type": "code",
   "execution_count": 37,
   "id": "9af78156",
   "metadata": {},
   "outputs": [],
   "source": [
    "# Bitwise Operators\n",
    "# Operates om Bits (0, 1)"
   ]
  },
  {
   "cell_type": "code",
   "execution_count": 38,
   "id": "7ebef349",
   "metadata": {},
   "outputs": [],
   "source": [
    "# Bitwise Operators can be used on binary and int"
   ]
  },
  {
   "cell_type": "code",
   "execution_count": 39,
   "id": "2d07dedc",
   "metadata": {},
   "outputs": [],
   "source": [
    "b1 = 0b1011"
   ]
  },
  {
   "cell_type": "code",
   "execution_count": 40,
   "id": "630e95c4",
   "metadata": {},
   "outputs": [
    {
     "data": {
      "text/plain": [
       "11"
      ]
     },
     "execution_count": 40,
     "metadata": {},
     "output_type": "execute_result"
    }
   ],
   "source": [
    "b1"
   ]
  },
  {
   "cell_type": "code",
   "execution_count": 41,
   "id": "7d80a710",
   "metadata": {},
   "outputs": [
    {
     "data": {
      "text/plain": [
       "int"
      ]
     },
     "execution_count": 41,
     "metadata": {},
     "output_type": "execute_result"
    }
   ],
   "source": [
    "type(b1)"
   ]
  },
  {
   "cell_type": "code",
   "execution_count": 43,
   "id": "4b9e3930",
   "metadata": {},
   "outputs": [
    {
     "data": {
      "text/plain": [
       "'0b1011'"
      ]
     },
     "execution_count": 43,
     "metadata": {},
     "output_type": "execute_result"
    }
   ],
   "source": [
    "bin(11)"
   ]
  },
  {
   "cell_type": "code",
   "execution_count": 44,
   "id": "535f8764",
   "metadata": {},
   "outputs": [],
   "source": [
    "# When bitwise operator is used with int, it gets convertred into binary and then operates on bits"
   ]
  },
  {
   "cell_type": "code",
   "execution_count": 45,
   "id": "b88a9a39",
   "metadata": {},
   "outputs": [],
   "source": [
    "# & : bitwise and\n",
    "# / : biwise or\n",
    "#  ^ bitwise xor\n",
    "#  ~ bitwise not\n",
    "# >> : bitwise right shift\n",
    "# << : bitwise left shift"
   ]
  },
  {
   "cell_type": "code",
   "execution_count": 46,
   "id": "1b994a41",
   "metadata": {},
   "outputs": [],
   "source": [
    "#  &"
   ]
  },
  {
   "cell_type": "code",
   "execution_count": 47,
   "id": "698eaac6",
   "metadata": {},
   "outputs": [],
   "source": [
    "b1 = 0b1001"
   ]
  },
  {
   "cell_type": "code",
   "execution_count": 48,
   "id": "919bb072",
   "metadata": {},
   "outputs": [],
   "source": [
    "b2 = 0b1101"
   ]
  },
  {
   "cell_type": "code",
   "execution_count": 49,
   "id": "5e10e1d2",
   "metadata": {},
   "outputs": [
    {
     "data": {
      "text/plain": [
       "9"
      ]
     },
     "execution_count": 49,
     "metadata": {},
     "output_type": "execute_result"
    }
   ],
   "source": [
    "b1 & b2"
   ]
  },
  {
   "cell_type": "code",
   "execution_count": 50,
   "id": "081b4abc",
   "metadata": {},
   "outputs": [
    {
     "data": {
      "text/plain": [
       "'0b1001'"
      ]
     },
     "execution_count": 50,
     "metadata": {},
     "output_type": "execute_result"
    }
   ],
   "source": [
    "bin(b1 & b2)"
   ]
  },
  {
   "attachments": {
    "image.png": {
     "image/png": "[encoded data removed]"
    }
   },
   "cell_type": "markdown",
   "id": "5c4c7462",
   "metadata": {},
   "source": [
    "![image.png](attachment:image.png)"
   ]
  },
  {
   "cell_type": "code",
   "execution_count": 51,
   "id": "5e5e914a",
   "metadata": {},
   "outputs": [],
   "source": [
    "#  /"
   ]
  },
  {
   "cell_type": "code",
   "execution_count": 52,
   "id": "672215c6",
   "metadata": {},
   "outputs": [
    {
     "data": {
      "text/plain": [
       "15"
      ]
     },
     "execution_count": 52,
     "metadata": {},
     "output_type": "execute_result"
    }
   ],
   "source": [
    "14 | 9"
   ]
  },
  {
   "cell_type": "code",
   "execution_count": 53,
   "id": "9f9fafcb",
   "metadata": {},
   "outputs": [
    {
     "data": {
      "text/plain": [
       "111"
      ]
     },
     "execution_count": 53,
     "metadata": {},
     "output_type": "execute_result"
    }
   ],
   "source": [
    "45 | 79"
   ]
  },
  {
   "attachments": {
    "image.png": {
     "image/png": "[encoded data removed]"
    }
   },
   "cell_type": "markdown",
   "id": "54f790e3",
   "metadata": {},
   "source": [
    "![image.png](attachment:image.png)"
   ]
  },
  {
   "cell_type": "code",
   "execution_count": 54,
   "id": "37f2ec9b",
   "metadata": {},
   "outputs": [],
   "source": [
    "#  ^\n"
   ]
  },
  {
   "cell_type": "code",
   "execution_count": 55,
   "id": "e7e7a9aa",
   "metadata": {},
   "outputs": [],
   "source": [
    "#1 ^ 1 : 0\n",
    "#1 ^ 0 : 1\n",
    "#0 ^ 1 : 1\n",
    "# 0 ^ 0 :0\n"
   ]
  },
  {
   "cell_type": "code",
   "execution_count": 56,
   "id": "e264490b",
   "metadata": {},
   "outputs": [],
   "source": [
    "# ~"
   ]
  },
  {
   "cell_type": "code",
   "execution_count": 57,
   "id": "155d2fed",
   "metadata": {},
   "outputs": [
    {
     "data": {
      "text/plain": [
       "-2"
      ]
     },
     "execution_count": 57,
     "metadata": {},
     "output_type": "execute_result"
    }
   ],
   "source": [
    "~1"
   ]
  },
  {
   "cell_type": "code",
   "execution_count": 59,
   "id": "7688f998",
   "metadata": {},
   "outputs": [],
   "source": [
    "# <<"
   ]
  },
  {
   "cell_type": "code",
   "execution_count": 61,
   "id": "632ea420",
   "metadata": {},
   "outputs": [
    {
     "data": {
      "text/plain": [
       "20"
      ]
     },
     "execution_count": 61,
     "metadata": {},
     "output_type": "execute_result"
    }
   ],
   "source": [
    "10<<1"
   ]
  },
  {
   "cell_type": "code",
   "execution_count": 62,
   "id": "22e795c1",
   "metadata": {},
   "outputs": [
    {
     "data": {
      "text/plain": [
       "20"
      ]
     },
     "execution_count": 62,
     "metadata": {},
     "output_type": "execute_result"
    }
   ],
   "source": [
    "5 << 2"
   ]
  },
  {
   "cell_type": "code",
   "execution_count": 64,
   "id": "a23868ff",
   "metadata": {},
   "outputs": [
    {
     "data": {
      "text/plain": [
       "'0b10100'"
      ]
     },
     "execution_count": 64,
     "metadata": {},
     "output_type": "execute_result"
    }
   ],
   "source": [
    "bin(5 << 2)"
   ]
  },
  {
   "cell_type": "code",
   "execution_count": 65,
   "id": "405c8c78",
   "metadata": {},
   "outputs": [],
   "source": [
    "# >>"
   ]
  },
  {
   "cell_type": "code",
   "execution_count": 66,
   "id": "52346cf9",
   "metadata": {},
   "outputs": [
    {
     "data": {
      "text/plain": [
       "1"
      ]
     },
     "execution_count": 66,
     "metadata": {},
     "output_type": "execute_result"
    }
   ],
   "source": [
    "5 >> 2"
   ]
  },
  {
   "cell_type": "code",
   "execution_count": 70,
   "id": "d87192bf",
   "metadata": {},
   "outputs": [
    {
     "name": "stdout",
     "output_type": "stream",
     "text": [
      "0b101\n",
      "0b1\n"
     ]
    }
   ],
   "source": [
    "print(bin(5))\n",
    "\n",
    "print(bin(1))"
   ]
  },
  {
   "cell_type": "code",
   "execution_count": 71,
   "id": "8674cbef",
   "metadata": {},
   "outputs": [],
   "source": [
    "# Membership Operator\n",
    "# in"
   ]
  },
  {
   "cell_type": "code",
   "execution_count": 72,
   "id": "33f9923b",
   "metadata": {},
   "outputs": [],
   "source": [
    "l1 = [10, 4, 0, -4]"
   ]
  },
  {
   "cell_type": "code",
   "execution_count": 73,
   "id": "0adb4acd",
   "metadata": {},
   "outputs": [
    {
     "data": {
      "text/plain": [
       "True"
      ]
     },
     "execution_count": 73,
     "metadata": {},
     "output_type": "execute_result"
    }
   ],
   "source": [
    "10 in l1"
   ]
  },
  {
   "cell_type": "code",
   "execution_count": 74,
   "id": "bd3bf955",
   "metadata": {},
   "outputs": [
    {
     "data": {
      "text/plain": [
       "False"
      ]
     },
     "execution_count": 74,
     "metadata": {},
     "output_type": "execute_result"
    }
   ],
   "source": [
    "20 in l1"
   ]
  },
  {
   "cell_type": "code",
   "execution_count": 75,
   "id": "2c89a511",
   "metadata": {},
   "outputs": [],
   "source": [
    "s1 = \"Hello\""
   ]
  },
  {
   "cell_type": "code",
   "execution_count": 76,
   "id": "c5dee00a",
   "metadata": {},
   "outputs": [
    {
     "data": {
      "text/plain": [
       "False"
      ]
     },
     "execution_count": 76,
     "metadata": {},
     "output_type": "execute_result"
    }
   ],
   "source": [
    "'h' in s1"
   ]
  },
  {
   "cell_type": "code",
   "execution_count": 77,
   "id": "a78d8b1f",
   "metadata": {},
   "outputs": [
    {
     "data": {
      "text/plain": [
       "True"
      ]
     },
     "execution_count": 77,
     "metadata": {},
     "output_type": "execute_result"
    }
   ],
   "source": [
    "'H' in s1"
   ]
  },
  {
   "cell_type": "code",
   "execution_count": 78,
   "id": "41593c75",
   "metadata": {},
   "outputs": [
    {
     "data": {
      "text/plain": [
       "True"
      ]
     },
     "execution_count": 78,
     "metadata": {},
     "output_type": "execute_result"
    }
   ],
   "source": [
    "'Hel' in s1"
   ]
  },
  {
   "cell_type": "code",
   "execution_count": 81,
   "id": "6c905cdf",
   "metadata": {},
   "outputs": [
    {
     "data": {
      "text/plain": [
       "False"
      ]
     },
     "execution_count": 81,
     "metadata": {},
     "output_type": "execute_result"
    }
   ],
   "source": [
    "'le' in s1"
   ]
  },
  {
   "cell_type": "code",
   "execution_count": 82,
   "id": "b6b2062c",
   "metadata": {},
   "outputs": [
    {
     "data": {
      "text/plain": [
       "10"
      ]
     },
     "execution_count": 82,
     "metadata": {},
     "output_type": "execute_result"
    }
   ],
   "source": [
    "10 or 20 + 30"
   ]
  },
  {
   "cell_type": "code",
   "execution_count": 83,
   "id": "1fa79fe3",
   "metadata": {},
   "outputs": [
    {
     "data": {
      "text/plain": [
       "20"
      ]
     },
     "execution_count": 83,
     "metadata": {},
     "output_type": "execute_result"
    }
   ],
   "source": [
    "10 + 2 *5"
   ]
  },
  {
   "cell_type": "code",
   "execution_count": 84,
   "id": "2397938f",
   "metadata": {},
   "outputs": [
    {
     "data": {
      "text/plain": [
       "50"
      ]
     },
     "execution_count": 84,
     "metadata": {},
     "output_type": "execute_result"
    }
   ],
   "source": [
    "10 and 20 + 30"
   ]
  },
  {
   "cell_type": "code",
   "execution_count": 85,
   "id": "14f3e49b",
   "metadata": {},
   "outputs": [
    {
     "data": {
      "text/plain": [
       "10.0"
      ]
     },
     "execution_count": 85,
     "metadata": {},
     "output_type": "execute_result"
    }
   ],
   "source": [
    "10 / 10 * 10"
   ]
  },
  {
   "cell_type": "code",
   "execution_count": 86,
   "id": "a9fadb9b",
   "metadata": {},
   "outputs": [
    {
     "data": {
      "text/plain": [
       "2"
      ]
     },
     "execution_count": 86,
     "metadata": {},
     "output_type": "execute_result"
    }
   ],
   "source": [
    "2 ** 1 ** 3"
   ]
  },
  {
   "cell_type": "code",
   "execution_count": null,
   "id": "313fd741",
   "metadata": {},
   "outputs": [],
   "source": []
  }
 ],
 "metadata": {
  "kernelspec": {
   "display_name": "Python 3 (ipykernel)",
   "language": "python",
   "name": "python3"
  },
  "language_info": {
   "codemirror_mode": {
    "name": "ipython",
    "version": 3
   },
   "file_extension": ".py",
   "mimetype": "text/x-python",
   "name": "python",
   "nbconvert_exporter": "python",
   "pygments_lexer": "ipython3",
   "version": "3.10.5"
  }
 },
 "nbformat": 4,
 "nbformat_minor": 5
}
