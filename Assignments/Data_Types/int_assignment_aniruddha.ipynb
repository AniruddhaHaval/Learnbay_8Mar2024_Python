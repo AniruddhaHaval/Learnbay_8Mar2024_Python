{
 "cells": [
  {
   "cell_type": "markdown",
   "id": "a2907bb1",
   "metadata": {},
   "source": [
    " Q. Declare an int value and store it in a variable.\n",
    " Check the type and print the id of the same."
   ]
  },
  {
   "cell_type": "code",
   "execution_count": 2,
   "id": "f0b7a223",
   "metadata": {},
   "outputs": [
    {
     "name": "stdout",
     "output_type": "stream",
     "text": [
      "<class 'int'>\n",
      "2787585557328\n"
     ]
    }
   ],
   "source": [
    "x_amount = 20\n",
    "print(type(x_amount))\n",
    "print(id(x_amount))"
   ]
  },
  {
   "cell_type": "markdown",
   "id": "943d3a61",
   "metadata": {},
   "source": [
    " Q. Take one int value between 0 - 256.\n",
    " Assign it to two different variables.\n",
    " Check the id of both the variables. It should come the same. Check why?"
   ]
  },
  {
   "cell_type": "code",
   "execution_count": 16,
   "id": "0635efb6",
   "metadata": {},
   "outputs": [
    {
     "name": "stdout",
     "output_type": "stream",
     "text": [
      "2787585559568\n",
      "2787585559568\n"
     ]
    }
   ],
   "source": [
    "x_value = 90\n",
    "y_value = 90\n",
    "print(id(x_value))\n",
    "print(id(y_value))"
   ]
  },
  {
   "cell_type": "code",
   "execution_count": 5,
   "id": "a7e767cf",
   "metadata": {},
   "outputs": [],
   "source": [
    "# In summary, Python’s integer caching mechanism ensures that small integers within the specified range share the same underlying object, \n",
    "# while larger integers do not exhibit this behavior"
   ]
  },
  {
   "cell_type": "markdown",
   "id": "446c883e",
   "metadata": {},
   "source": [
    " Q. Take one int value either less than -5 or greater than 256.\n",
    " Assign it to two different variables.\n",
    " Check the id of both the variables. It should come different.Check why?"
   ]
  },
  {
   "cell_type": "code",
   "execution_count": 13,
   "id": "ef17017c",
   "metadata": {},
   "outputs": [
    {
     "name": "stdout",
     "output_type": "stream",
     "text": [
      "2787671186416\n",
      "2787671186416\n"
     ]
    }
   ],
   "source": [
    "large_value_1 = 469989973237796532697979656636656\n",
    "large_value_2 = 469989973237796532697979656636656\n",
    "print(id(large_value_1))\n",
    "print(id(large_value_1))"
   ]
  },
  {
   "cell_type": "code",
   "execution_count": 14,
   "id": "d9d50371",
   "metadata": {},
   "outputs": [],
   "source": [
    "# In summary, Python’s integer caching mechanism ensures that small integers within the specified range share the same underlying object, \n",
    "# while larger integers do not exhibit this behavior"
   ]
  },
  {
   "cell_type": "markdown",
   "id": "6889d7a7",
   "metadata": {},
   "source": [
    " Q. Arithmetic Operations on integers\n",
    " Take two different integer values.\n",
    " Store them in two different variables.\n",
    " Do below operations on them:-\n",
    " Find sum of both numbers\n",
    " Find difference between them\n",
    " Find the product of both numbers.\n",
    " Find value after dividing first num with second number\n",
    " Find the remainder after dividing first number with second number\n",
    " Find the quotient after dividing first number with second number\n",
    " Find the result of the first num to the power of the second number."
   ]
  },
  {
   "cell_type": "code",
   "execution_count": 20,
   "id": "54eba3cd",
   "metadata": {},
   "outputs": [
    {
     "name": "stdout",
     "output_type": "stream",
     "text": [
      "Total sum is 23\n",
      "Difference is 17\n",
      "Product is 60\n",
      "division is 6.666666666666667\n",
      "remainder is 2\n",
      "quotient is 6\n",
      "power is 8000\n"
     ]
    }
   ],
   "source": [
    "num_1 = 20\n",
    "num_2 = 3\n",
    "total_sum = num_1 + num_2\n",
    "difference = num_1 - num_2\n",
    "product = num_1 * num_2\n",
    "division = num_1 / num_2\n",
    "remainder = num_1 % num_2\n",
    "quotient = num_1 // num_2\n",
    "power = num_1 ** num_2\n",
    "print(f\"Total sum is {total_sum}\")\n",
    "print(f\"Difference is {difference}\")\n",
    "print(f\"Product is {product}\")\n",
    "print(f\"division is {division}\")\n",
    "print(f\"remainder is {remainder}\")\n",
    "print(f\"quotient is {quotient}\")\n",
    "print(f\"power is {power}\")\n",
    "\n"
   ]
  },
  {
   "cell_type": "code",
   "execution_count": null,
   "id": "9997cad6",
   "metadata": {},
   "outputs": [],
   "source": []
  },
  {
   "cell_type": "code",
   "execution_count": null,
   "id": "5e58c242",
   "metadata": {},
   "outputs": [],
   "source": []
  },
  {
   "cell_type": "code",
   "execution_count": null,
   "id": "d766eac8",
   "metadata": {},
   "outputs": [],
   "source": []
  },
  {
   "cell_type": "code",
   "execution_count": null,
   "id": "fa5f9780",
   "metadata": {},
   "outputs": [],
   "source": []
  },
  {
   "cell_type": "code",
   "execution_count": null,
   "id": "092b2df6",
   "metadata": {},
   "outputs": [],
   "source": []
  },
  {
   "cell_type": "code",
   "execution_count": null,
   "id": "9596a2ea",
   "metadata": {},
   "outputs": [],
   "source": []
  }
 ],
 "metadata": {
  "kernelspec": {
   "display_name": "Python 3 (ipykernel)",
   "language": "python",
   "name": "python3"
  },
  "language_info": {
   "codemirror_mode": {
    "name": "ipython",
    "version": 3
   },
   "file_extension": ".py",
   "mimetype": "text/x-python",
   "name": "python",
   "nbconvert_exporter": "python",
   "pygments_lexer": "ipython3",
   "version": "3.10.5"
  }
 },
 "nbformat": 4,
 "nbformat_minor": 5
}
