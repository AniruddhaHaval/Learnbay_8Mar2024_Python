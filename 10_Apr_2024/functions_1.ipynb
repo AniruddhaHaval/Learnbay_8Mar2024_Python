{
 "cells": [
  {
   "cell_type": "code",
   "execution_count": 1,
   "id": "ef0e8e0e",
   "metadata": {},
   "outputs": [],
   "source": [
    "# function = a block of code that does some specific task when it is called\n",
    "# reusbale"
   ]
  },
  {
   "cell_type": "code",
   "execution_count": 3,
   "id": "fe3351e8",
   "metadata": {},
   "outputs": [],
   "source": [
    "# predefined\n",
    "# print(), len()"
   ]
  },
  {
   "cell_type": "code",
   "execution_count": 4,
   "id": "2833a77a",
   "metadata": {},
   "outputs": [],
   "source": [
    "# userdefined\n"
   ]
  },
  {
   "cell_type": "code",
   "execution_count": 8,
   "id": "004a6690",
   "metadata": {},
   "outputs": [
    {
     "name": "stdout",
     "output_type": "stream",
     "text": [
      "Enter your name: Aniruddha\n",
      "Enter your age: 37\n",
      "Hello Aniruddha. You are 37 years old.\n"
     ]
    }
   ],
   "source": [
    "name = input(\"Enter your name: \")\n",
    "age = int(input(\"Enter your age: \"))\n",
    "print(f\"Hello {name}. You are {age} years old.\")"
   ]
  },
  {
   "cell_type": "code",
   "execution_count": 10,
   "id": "47c8ea0f",
   "metadata": {},
   "outputs": [],
   "source": [
    "def data():\n",
    "    name = input(\"Enter your name: \")\n",
    "    age = int(input(\"Enter your age: \"))\n",
    "    print(f\"Hello {name}. You are {age} years old.\")\n",
    "    "
   ]
  },
  {
   "cell_type": "code",
   "execution_count": 13,
   "id": "049c250e",
   "metadata": {},
   "outputs": [
    {
     "name": "stdout",
     "output_type": "stream",
     "text": [
      "Enter your name: A\n",
      "Enter your age: 37\n",
      "Hello A. You are 37 years old.\n"
     ]
    }
   ],
   "source": [
    "data()\n"
   ]
  },
  {
   "cell_type": "code",
   "execution_count": null,
   "id": "447bddfe",
   "metadata": {},
   "outputs": [],
   "source": []
  }
 ],
 "metadata": {
  "kernelspec": {
   "display_name": "Python 3 (ipykernel)",
   "language": "python",
   "name": "python3"
  },
  "language_info": {
   "codemirror_mode": {
    "name": "ipython",
    "version": 3
   },
   "file_extension": ".py",
   "mimetype": "text/x-python",
   "name": "python",
   "nbconvert_exporter": "python",
   "pygments_lexer": "ipython3",
   "version": "3.10.5"
  }
 },
 "nbformat": 4,
 "nbformat_minor": 5
}
